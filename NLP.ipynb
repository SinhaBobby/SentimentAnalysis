{
 "cells": [
  {
   "cell_type": "markdown",
   "id": "2d2c16c7",
   "metadata": {},
   "source": [
    "# azure ML installation and workspace creation"
   ]
  },
  {
   "cell_type": "code",
   "execution_count": 4,
   "id": "ae65e34f",
   "metadata": {},
   "outputs": [
    {
     "name": "stdout",
     "output_type": "stream",
     "text": [
      "Collecting azureml-core\n",
      "  Obtaining dependency information for azureml-core from https://files.pythonhosted.org/packages/f0/5d/a734ff6bd2ed2e865396fc3dffc2cfbc691ea88504fb3a5953000b6b3c63/azureml_core-1.56.0-py3-none-any.whl.metadata\n",
      "  Downloading azureml_core-1.56.0-py3-none-any.whl.metadata (3.1 kB)\n",
      "Requirement already satisfied: pytz in c:\\users\\lenovo\\appdata\\local\\anaconda3\\lib\\site-packages (from azureml-core) (2023.3.post1)\n",
      "Requirement already satisfied: backports.tempfile in c:\\users\\lenovo\\appdata\\local\\anaconda3\\lib\\site-packages (from azureml-core) (1.0)\n",
      "Requirement already satisfied: pathspec<1.0.0 in c:\\users\\lenovo\\appdata\\local\\anaconda3\\lib\\site-packages (from azureml-core) (0.10.3)\n",
      "Requirement already satisfied: requests[socks]<3.0.0,>=2.19.1 in c:\\users\\lenovo\\appdata\\local\\anaconda3\\lib\\site-packages (from azureml-core) (2.31.0)\n",
      "Collecting msal<2.0.0,>=1.15.0 (from azureml-core)\n",
      "  Obtaining dependency information for msal<2.0.0,>=1.15.0 from https://files.pythonhosted.org/packages/40/41/646c00154efa437bf01b30444421285fb29ef624e86b2446e71eff50b7a9/msal-1.28.0-py3-none-any.whl.metadata\n",
      "  Downloading msal-1.28.0-py3-none-any.whl.metadata (11 kB)\n",
      "Collecting msal-extensions<=2.0.0,>=0.3.0 (from azureml-core)\n",
      "  Obtaining dependency information for msal-extensions<=2.0.0,>=0.3.0 from https://files.pythonhosted.org/packages/78/8d/ecd0eb93196f25c722ba1b923fd54d190366feccfa5b159d48dacf2b1fee/msal_extensions-1.1.0-py3-none-any.whl.metadata\n",
      "  Downloading msal_extensions-1.1.0-py3-none-any.whl.metadata (7.7 kB)\n",
      "Collecting knack<0.12.0 (from azureml-core)\n",
      "  Obtaining dependency information for knack<0.12.0 from https://files.pythonhosted.org/packages/53/6b/caf27d5a40618c7e945a1c68e1961c2d3637edfce9ebb0edc27c9ff53c1c/knack-0.11.0-py3-none-any.whl.metadata\n",
      "  Downloading knack-0.11.0-py3-none-any.whl.metadata (5.2 kB)\n",
      "Collecting azure-core<2.0.0 (from azureml-core)\n",
      "  Obtaining dependency information for azure-core<2.0.0 from https://files.pythonhosted.org/packages/d7/70/180df3b43ebc7a1ec957d9e5c2c76e6c54398ec61a67dff88d3e0131be80/azure_core-1.30.1-py3-none-any.whl.metadata\n",
      "  Downloading azure_core-1.30.1-py3-none-any.whl.metadata (37 kB)\n",
      "Requirement already satisfied: pkginfo in c:\\users\\lenovo\\appdata\\local\\anaconda3\\lib\\site-packages (from azureml-core) (1.9.6)\n",
      "Collecting argcomplete<4 (from azureml-core)\n",
      "  Obtaining dependency information for argcomplete<4 from https://files.pythonhosted.org/packages/db/fb/feb8456bef211621ed410909df4a3ab66d688be821dfcb1080956158d0cb/argcomplete-3.3.0-py3-none-any.whl.metadata\n",
      "  Downloading argcomplete-3.3.0-py3-none-any.whl.metadata (16 kB)\n",
      "Collecting humanfriendly<11.0,>=4.7 (from azureml-core)\n",
      "  Obtaining dependency information for humanfriendly<11.0,>=4.7 from https://files.pythonhosted.org/packages/f0/0f/310fb31e39e2d734ccaa2c0fb981ee41f7bd5056ce9bc29b2248bd569169/humanfriendly-10.0-py2.py3-none-any.whl.metadata\n",
      "  Downloading humanfriendly-10.0-py2.py3-none-any.whl.metadata (9.2 kB)\n",
      "Requirement already satisfied: paramiko<4.0.0,>=2.0.8 in c:\\users\\lenovo\\appdata\\local\\anaconda3\\lib\\site-packages (from azureml-core) (2.8.1)\n",
      "Collecting azure-mgmt-resource<=24.0.0,>=15.0.0 (from azureml-core)\n",
      "  Obtaining dependency information for azure-mgmt-resource<=24.0.0,>=15.0.0 from https://files.pythonhosted.org/packages/73/26/1e0aa521832b6833e6ed81481bc9044a5812418deeaa86e99e6850e234f4/azure_mgmt_resource-23.1.1-py3-none-any.whl.metadata\n",
      "  Downloading azure_mgmt_resource-23.1.1-py3-none-any.whl.metadata (37 kB)\n",
      "Collecting azure-mgmt-containerregistry<11,>=8.2.0 (from azureml-core)\n",
      "  Obtaining dependency information for azure-mgmt-containerregistry<11,>=8.2.0 from https://files.pythonhosted.org/packages/93/04/e6e206b9392b39e90d84891bf069a4673ba9fe4bc8ba6be78f0bc684c746/azure_mgmt_containerregistry-10.3.0-py3-none-any.whl.metadata\n",
      "  Downloading azure_mgmt_containerregistry-10.3.0-py3-none-any.whl.metadata (23 kB)\n",
      "Collecting azure-mgmt-storage<=22.0.0,>=16.0.0 (from azureml-core)\n",
      "  Obtaining dependency information for azure-mgmt-storage<=22.0.0,>=16.0.0 from https://files.pythonhosted.org/packages/58/31/4d37f8a85c37933961f8547f1df53018baef4e66d47f752ffd151f78af8a/azure_mgmt_storage-21.1.0-py3-none-any.whl.metadata\n",
      "  Downloading azure_mgmt_storage-21.1.0-py3-none-any.whl.metadata (29 kB)\n",
      "Collecting azure-mgmt-keyvault<11.0.0,>=0.40.0 (from azureml-core)\n",
      "  Obtaining dependency information for azure-mgmt-keyvault<11.0.0,>=0.40.0 from https://files.pythonhosted.org/packages/8e/6f/565d9e7970d5098e7cb84d8b141f7936173ccb2b9046f397dde81a56cf4b/azure_mgmt_keyvault-10.3.0-py3-none-any.whl.metadata\n",
      "  Downloading azure_mgmt_keyvault-10.3.0-py3-none-any.whl.metadata (15 kB)\n",
      "Collecting azure-mgmt-authorization<5,>=0.40.0 (from azureml-core)\n",
      "  Obtaining dependency information for azure-mgmt-authorization<5,>=0.40.0 from https://files.pythonhosted.org/packages/32/b3/8ec1268082f4d20cc8bf723a1a8e6b9e330bcc338a4dbcee9c7737e9dc1c/azure_mgmt_authorization-4.0.0-py3-none-any.whl.metadata\n",
      "  Downloading azure_mgmt_authorization-4.0.0-py3-none-any.whl.metadata (18 kB)\n",
      "Collecting azure-mgmt-network<=26.0.0 (from azureml-core)\n",
      "  Obtaining dependency information for azure-mgmt-network<=26.0.0 from https://files.pythonhosted.org/packages/d8/1f/fef7bc3eb004981e6740dd9ca21f3e2c245a00c3336eff07d936999de6ac/azure_mgmt_network-25.3.0-py3-none-any.whl.metadata\n",
      "  Downloading azure_mgmt_network-25.3.0-py3-none-any.whl.metadata (81 kB)\n",
      "     ---------------------------------------- 0.0/81.2 kB ? eta -:--:--\n",
      "     ----------------------------------- ---- 71.7/81.2 kB ? eta -:--:--\n",
      "     ---------------------------------------- 81.2/81.2 kB 1.1 MB/s eta 0:00:00\n",
      "Collecting azure-graphrbac<1.0.0,>=0.40.0 (from azureml-core)\n",
      "  Obtaining dependency information for azure-graphrbac<1.0.0,>=0.40.0 from https://files.pythonhosted.org/packages/3e/93/02056aca45162f9fc275d1eaad12a2a07ef92375afb48eabddc4134b8315/azure_graphrbac-0.61.1-py2.py3-none-any.whl.metadata\n",
      "  Downloading azure_graphrbac-0.61.1-py2.py3-none-any.whl.metadata (10 kB)\n",
      "Collecting azure-common<2.0.0,>=1.1.12 (from azureml-core)\n",
      "  Obtaining dependency information for azure-common<2.0.0,>=1.1.12 from https://files.pythonhosted.org/packages/62/55/7f118b9c1b23ec15ca05d15a578d8207aa1706bc6f7c87218efffbbf875d/azure_common-1.1.28-py2.py3-none-any.whl.metadata\n",
      "  Downloading azure_common-1.1.28-py2.py3-none-any.whl.metadata (5.0 kB)\n",
      "Collecting msrest<=0.7.1,>=0.5.1 (from azureml-core)\n",
      "  Obtaining dependency information for msrest<=0.7.1,>=0.5.1 from https://files.pythonhosted.org/packages/15/cf/f2966a2638144491f8696c27320d5219f48a072715075d168b31d3237720/msrest-0.7.1-py3-none-any.whl.metadata\n",
      "  Downloading msrest-0.7.1-py3-none-any.whl.metadata (21 kB)\n",
      "Collecting msrestazure<=0.6.4,>=0.4.33 (from azureml-core)\n",
      "  Obtaining dependency information for msrestazure<=0.6.4,>=0.4.33 from https://files.pythonhosted.org/packages/5e/3a/7adb08fd2f0ee6fdfd03685fac38477b64f184943dcf6ea0cbffb205f22d/msrestazure-0.6.4-py2.py3-none-any.whl.metadata\n",
      "  Downloading msrestazure-0.6.4-py2.py3-none-any.whl.metadata (15 kB)\n",
      "Collecting urllib3<3.0.0,>1.26.17 (from azureml-core)\n",
      "  Obtaining dependency information for urllib3<3.0.0,>1.26.17 from https://files.pythonhosted.org/packages/a2/73/a68704750a7679d0b6d3ad7aa8d4da8e14e151ae82e6fee774e6e0d05ec8/urllib3-2.2.1-py3-none-any.whl.metadata\n",
      "  Downloading urllib3-2.2.1-py3-none-any.whl.metadata (6.4 kB)\n",
      "Requirement already satisfied: packaging<=25.0,>=20.0 in c:\\users\\lenovo\\appdata\\local\\anaconda3\\lib\\site-packages (from azureml-core) (23.1)\n",
      "Requirement already satisfied: python-dateutil<3.0.0,>=2.7.3 in c:\\users\\lenovo\\appdata\\local\\anaconda3\\lib\\site-packages (from azureml-core) (2.8.2)\n",
      "Collecting ndg-httpsclient<=0.5.1 (from azureml-core)\n",
      "  Obtaining dependency information for ndg-httpsclient<=0.5.1 from https://files.pythonhosted.org/packages/fb/67/c2f508c00ed2a6911541494504b7cac16fe0b0473912568df65fd1801132/ndg_httpsclient-0.5.1-py3-none-any.whl.metadata\n",
      "  Downloading ndg_httpsclient-0.5.1-py3-none-any.whl.metadata (6.2 kB)\n",
      "Collecting SecretStorage<4.0.0 (from azureml-core)\n",
      "  Obtaining dependency information for SecretStorage<4.0.0 from https://files.pythonhosted.org/packages/54/24/b4293291fa1dd830f353d2cb163295742fa87f179fcc8a20a306a81978b7/SecretStorage-3.3.3-py3-none-any.whl.metadata\n",
      "  Downloading SecretStorage-3.3.3-py3-none-any.whl.metadata (4.0 kB)\n",
      "Collecting jsonpickle<4.0.0 (from azureml-core)\n",
      "  Obtaining dependency information for jsonpickle<4.0.0 from https://files.pythonhosted.org/packages/19/c3/453e4e2da82d5efad9e653916a120d94daf5062f7eae43e28f39fff1bc6a/jsonpickle-3.0.4-py3-none-any.whl.metadata\n",
      "  Downloading jsonpickle-3.0.4-py3-none-any.whl.metadata (2.6 kB)\n",
      "Collecting contextlib2<22.0.0 (from azureml-core)\n",
      "  Obtaining dependency information for contextlib2<22.0.0 from https://files.pythonhosted.org/packages/76/56/6d6872f79d14c0cb02f1646cbb4592eef935857c0951a105874b7b62a0c3/contextlib2-21.6.0-py2.py3-none-any.whl.metadata\n",
      "  Downloading contextlib2-21.6.0-py2.py3-none-any.whl.metadata (4.1 kB)\n",
      "Collecting docker<8.0.0 (from azureml-core)\n",
      "  Obtaining dependency information for docker<8.0.0 from https://files.pythonhosted.org/packages/18/bd/9706c10bb12e05043ef138dc8d412cfd17f29c8df0fb28ad71c96a98785d/docker-7.0.0-py3-none-any.whl.metadata\n",
      "  Downloading docker-7.0.0-py3-none-any.whl.metadata (3.5 kB)\n",
      "Requirement already satisfied: PyJWT<3.0.0 in c:\\users\\lenovo\\appdata\\local\\anaconda3\\lib\\site-packages (from azureml-core) (2.4.0)\n",
      "Collecting adal<=1.2.7,>=1.2.0 (from azureml-core)\n",
      "  Obtaining dependency information for adal<=1.2.7,>=1.2.0 from https://files.pythonhosted.org/packages/49/8d/58008a9a86075827f99aa8bb75d8db515bb9c34654f95e647cda31987db7/adal-1.2.7-py2.py3-none-any.whl.metadata\n",
      "  Downloading adal-1.2.7-py2.py3-none-any.whl.metadata (6.9 kB)\n",
      "Requirement already satisfied: pyopenssl<25.0.0 in c:\\users\\lenovo\\appdata\\local\\anaconda3\\lib\\site-packages (from azureml-core) (23.2.0)\n",
      "Requirement already satisfied: jmespath<2.0.0 in c:\\users\\lenovo\\appdata\\local\\anaconda3\\lib\\site-packages (from azureml-core) (0.10.0)\n",
      "Requirement already satisfied: cryptography>=1.1.0 in c:\\users\\lenovo\\appdata\\local\\anaconda3\\lib\\site-packages (from adal<=1.2.7,>=1.2.0->azureml-core) (41.0.3)\n",
      "Requirement already satisfied: six>=1.11.0 in c:\\users\\lenovo\\appdata\\local\\anaconda3\\lib\\site-packages (from azure-core<2.0.0->azureml-core) (1.16.0)\n",
      "Requirement already satisfied: typing-extensions>=4.6.0 in c:\\users\\lenovo\\appdata\\local\\anaconda3\\lib\\site-packages (from azure-core<2.0.0->azureml-core) (4.7.1)\n",
      "Collecting isodate<1.0.0,>=0.6.1 (from azure-mgmt-authorization<5,>=0.40.0->azureml-core)\n",
      "  Obtaining dependency information for isodate<1.0.0,>=0.6.1 from https://files.pythonhosted.org/packages/b6/85/7882d311924cbcfc70b1890780763e36ff0b140c7e51c110fc59a532f087/isodate-0.6.1-py2.py3-none-any.whl.metadata\n",
      "  Downloading isodate-0.6.1-py2.py3-none-any.whl.metadata (9.6 kB)\n",
      "Collecting azure-mgmt-core<2.0.0,>=1.3.2 (from azure-mgmt-authorization<5,>=0.40.0->azureml-core)\n",
      "  Obtaining dependency information for azure-mgmt-core<2.0.0,>=1.3.2 from https://files.pythonhosted.org/packages/b1/5a/3a31578b840600dffb75f3ffb383cc4c5e8ea0d06a1085f86b17e18c3193/azure_mgmt_core-1.4.0-py3-none-any.whl.metadata\n",
      "  Downloading azure_mgmt_core-1.4.0-py3-none-any.whl.metadata (4.1 kB)\n",
      "Requirement already satisfied: pywin32>=304 in c:\\users\\lenovo\\appdata\\local\\anaconda3\\lib\\site-packages (from docker<8.0.0->azureml-core) (305.1)\n",
      "Collecting pyreadline3 (from humanfriendly<11.0,>=4.7->azureml-core)\n",
      "  Obtaining dependency information for pyreadline3 from https://files.pythonhosted.org/packages/56/fc/a3c13ded7b3057680c8ae95a9b6cc83e63657c38e0005c400a5d018a33a7/pyreadline3-3.4.1-py3-none-any.whl.metadata\n",
      "  Downloading pyreadline3-3.4.1-py3-none-any.whl.metadata (2.0 kB)\n",
      "Requirement already satisfied: pygments in c:\\users\\lenovo\\appdata\\local\\anaconda3\\lib\\site-packages (from knack<0.12.0->azureml-core) (2.15.1)\n",
      "Requirement already satisfied: pyyaml in c:\\users\\lenovo\\appdata\\local\\anaconda3\\lib\\site-packages (from knack<0.12.0->azureml-core) (6.0)\n",
      "Requirement already satisfied: tabulate in c:\\users\\lenovo\\appdata\\local\\anaconda3\\lib\\site-packages (from knack<0.12.0->azureml-core) (0.8.10)\n",
      "Collecting portalocker<3,>=1.6 (from msal-extensions<=2.0.0,>=0.3.0->azureml-core)\n",
      "  Obtaining dependency information for portalocker<3,>=1.6 from https://files.pythonhosted.org/packages/17/9e/87671efcca80ba6203811540ed1f9c0462c1609d2281d7b7f53cef05da3d/portalocker-2.8.2-py3-none-any.whl.metadata\n",
      "  Downloading portalocker-2.8.2-py3-none-any.whl.metadata (8.5 kB)\n",
      "Requirement already satisfied: certifi>=2017.4.17 in c:\\users\\lenovo\\appdata\\local\\anaconda3\\lib\\site-packages (from msrest<=0.7.1,>=0.5.1->azureml-core) (2023.7.22)\n",
      "Collecting requests-oauthlib>=0.5.0 (from msrest<=0.7.1,>=0.5.1->azureml-core)\n",
      "  Obtaining dependency information for requests-oauthlib>=0.5.0 from https://files.pythonhosted.org/packages/3b/5d/63d4ae3b9daea098d5d6f5da83984853c1bbacd5dc826764b249fe119d24/requests_oauthlib-2.0.0-py2.py3-none-any.whl.metadata\n",
      "  Downloading requests_oauthlib-2.0.0-py2.py3-none-any.whl.metadata (11 kB)\n",
      "Requirement already satisfied: pyasn1>=0.1.1 in c:\\users\\lenovo\\appdata\\local\\anaconda3\\lib\\site-packages (from ndg-httpsclient<=0.5.1->azureml-core) (0.4.8)\n",
      "Requirement already satisfied: bcrypt>=3.1.3 in c:\\users\\lenovo\\appdata\\local\\anaconda3\\lib\\site-packages (from paramiko<4.0.0,>=2.0.8->azureml-core) (3.2.0)\n",
      "Requirement already satisfied: pynacl>=1.0.1 in c:\\users\\lenovo\\appdata\\local\\anaconda3\\lib\\site-packages (from paramiko<4.0.0,>=2.0.8->azureml-core) (1.5.0)\n",
      "Requirement already satisfied: charset-normalizer<4,>=2 in c:\\users\\lenovo\\appdata\\local\\anaconda3\\lib\\site-packages (from requests[socks]<3.0.0,>=2.19.1->azureml-core) (2.0.4)\n",
      "Requirement already satisfied: idna<4,>=2.5 in c:\\users\\lenovo\\appdata\\local\\anaconda3\\lib\\site-packages (from requests[socks]<3.0.0,>=2.19.1->azureml-core) (3.4)\n",
      "Requirement already satisfied: PySocks!=1.5.7,>=1.5.6 in c:\\users\\lenovo\\appdata\\local\\anaconda3\\lib\\site-packages (from requests[socks]<3.0.0,>=2.19.1->azureml-core) (1.7.1)\n",
      "Collecting jeepney>=0.6 (from SecretStorage<4.0.0->azureml-core)\n",
      "  Obtaining dependency information for jeepney>=0.6 from https://files.pythonhosted.org/packages/ae/72/2a1e2290f1ab1e06f71f3d0f1646c9e4634e70e1d37491535e19266e8dc9/jeepney-0.8.0-py3-none-any.whl.metadata\n",
      "  Downloading jeepney-0.8.0-py3-none-any.whl.metadata (1.3 kB)\n",
      "Requirement already satisfied: backports.weakref in c:\\users\\lenovo\\appdata\\local\\anaconda3\\lib\\site-packages (from backports.tempfile->azureml-core) (1.0.post1)\n",
      "Requirement already satisfied: cffi>=1.1 in c:\\users\\lenovo\\appdata\\local\\anaconda3\\lib\\site-packages (from bcrypt>=3.1.3->paramiko<4.0.0,>=2.0.8->azureml-core) (1.15.1)\n",
      "Collecting oauthlib>=3.0.0 (from requests-oauthlib>=0.5.0->msrest<=0.7.1,>=0.5.1->azureml-core)\n",
      "  Obtaining dependency information for oauthlib>=3.0.0 from https://files.pythonhosted.org/packages/7e/80/cab10959dc1faead58dc8384a781dfbf93cb4d33d50988f7a69f1b7c9bbe/oauthlib-3.2.2-py3-none-any.whl.metadata\n",
      "  Downloading oauthlib-3.2.2-py3-none-any.whl.metadata (7.5 kB)\n",
      "Requirement already satisfied: pycparser in c:\\users\\lenovo\\appdata\\local\\anaconda3\\lib\\site-packages (from cffi>=1.1->bcrypt>=3.1.3->paramiko<4.0.0,>=2.0.8->azureml-core) (2.21)\n",
      "Downloading azureml_core-1.56.0-py3-none-any.whl (3.3 MB)\n",
      "   ---------------------------------------- 0.0/3.3 MB ? eta -:--:--\n",
      "   - -------------------------------------- 0.1/3.3 MB 3.6 MB/s eta 0:00:01\n",
      "   -- ------------------------------------- 0.2/3.3 MB 3.0 MB/s eta 0:00:02\n",
      "   ----- ---------------------------------- 0.5/3.3 MB 3.1 MB/s eta 0:00:01\n",
      "   ------- -------------------------------- 0.6/3.3 MB 3.2 MB/s eta 0:00:01\n",
      "   --------- ------------------------------ 0.8/3.3 MB 3.7 MB/s eta 0:00:01\n",
      "   ------------ --------------------------- 1.1/3.3 MB 3.7 MB/s eta 0:00:01\n",
      "   --------------- ------------------------ 1.3/3.3 MB 4.0 MB/s eta 0:00:01\n",
      "   ------------------ --------------------- 1.5/3.3 MB 4.0 MB/s eta 0:00:01\n",
      "   ---------------------- ----------------- 1.8/3.3 MB 4.0 MB/s eta 0:00:01\n",
      "   ------------------------- -------------- 2.1/3.3 MB 4.3 MB/s eta 0:00:01\n",
      "   ------------------------------ --------- 2.5/3.3 MB 4.4 MB/s eta 0:00:01\n",
      "   -------------------------------- ------- 2.7/3.3 MB 4.4 MB/s eta 0:00:01\n",
      "   ------------------------------------ --- 3.0/3.3 MB 4.6 MB/s eta 0:00:01\n",
      "   ---------------------------------------  3.3/3.3 MB 4.7 MB/s eta 0:00:01\n",
      "   ---------------------------------------  3.3/3.3 MB 4.7 MB/s eta 0:00:01\n",
      "   ---------------------------------------- 3.3/3.3 MB 4.1 MB/s eta 0:00:00\n",
      "Downloading adal-1.2.7-py2.py3-none-any.whl (55 kB)\n",
      "   ---------------------------------------- 0.0/55.5 kB ? eta -:--:--\n",
      "   ------------------------------------ --- 51.2/55.5 kB ? eta -:--:--\n",
      "   ---------------------------------------- 55.5/55.5 kB 963.8 kB/s eta 0:00:00\n",
      "Downloading argcomplete-3.3.0-py3-none-any.whl (42 kB)\n",
      "   ---------------------------------------- 0.0/42.6 kB ? eta -:--:--\n",
      "   -------------------------------------- - 41.0/42.6 kB ? eta -:--:--\n",
      "   -------------------------------------- - 41.0/42.6 kB ? eta -:--:--\n",
      "   ---------------------------------------- 42.6/42.6 kB 344.5 kB/s eta 0:00:00\n",
      "Downloading azure_common-1.1.28-py2.py3-none-any.whl (14 kB)\n",
      "Downloading azure_core-1.30.1-py3-none-any.whl (193 kB)\n",
      "   ---------------------------------------- 0.0/193.4 kB ? eta -:--:--\n",
      "   ------------------------------------- - 184.3/193.4 kB 11.6 MB/s eta 0:00:01\n",
      "   ---------------------------------------- 193.4/193.4 kB 1.9 MB/s eta 0:00:00\n",
      "Downloading azure_graphrbac-0.61.1-py2.py3-none-any.whl (141 kB)\n",
      "   ---------------------------------------- 0.0/141.4 kB ? eta -:--:--\n",
      "   ------------------------------------- -- 133.1/141.4 kB 7.7 MB/s eta 0:00:01\n",
      "   ---------------------------------------- 141.4/141.4 kB 1.7 MB/s eta 0:00:00\n",
      "Downloading azure_mgmt_authorization-4.0.0-py3-none-any.whl (1.1 MB)\n",
      "   ---------------------------------------- 0.0/1.1 MB ? eta -:--:--\n",
      "   ------- -------------------------------- 0.2/1.1 MB 6.3 MB/s eta 0:00:01\n",
      "   ---------------------- ----------------- 0.6/1.1 MB 6.3 MB/s eta 0:00:01\n",
      "   ------------------------------------ --- 1.0/1.1 MB 6.9 MB/s eta 0:00:01\n",
      "   ---------------------------------------  1.1/1.1 MB 6.8 MB/s eta 0:00:01\n",
      "   ---------------------------------------  1.1/1.1 MB 6.8 MB/s eta 0:00:01\n",
      "   ---------------------------------------- 1.1/1.1 MB 4.0 MB/s eta 0:00:00\n",
      "Downloading azure_mgmt_containerregistry-10.3.0-py3-none-any.whl (2.3 MB)\n",
      "   ---------------------------------------- 0.0/2.3 MB ? eta -:--:--\n",
      "   ----- ---------------------------------- 0.3/2.3 MB 9.2 MB/s eta 0:00:01\n",
      "   ------- -------------------------------- 0.5/2.3 MB 7.3 MB/s eta 0:00:01\n",
      "   -------------- ------------------------- 0.8/2.3 MB 6.7 MB/s eta 0:00:01\n",
      "   ------------------- -------------------- 1.2/2.3 MB 6.1 MB/s eta 0:00:01\n",
      "   ---------------------------- ----------- 1.6/2.3 MB 6.9 MB/s eta 0:00:01\n",
      "   ------------------------------------ --- 2.1/2.3 MB 7.1 MB/s eta 0:00:01\n",
      "   ---------------------------------------  2.3/2.3 MB 7.0 MB/s eta 0:00:01\n",
      "   ---------------------------------------  2.3/2.3 MB 7.0 MB/s eta 0:00:01\n",
      "   ---------------------------------------- 2.3/2.3 MB 5.5 MB/s eta 0:00:00\n",
      "Downloading azure_mgmt_keyvault-10.3.0-py3-none-any.whl (933 kB)\n",
      "   ---------------------------------------- 0.0/933.0 kB ? eta -:--:--\n",
      "   ---------------------- ---------------- 532.5/933.0 kB 11.1 MB/s eta 0:00:01\n",
      "   ---------------------------------------  931.8/933.0 kB 9.8 MB/s eta 0:00:01\n",
      "   ---------------------------------------  931.8/933.0 kB 9.8 MB/s eta 0:00:01\n",
      "   ---------------------------------------- 933.0/933.0 kB 4.9 MB/s eta 0:00:00\n",
      "Downloading azure_mgmt_network-25.3.0-py3-none-any.whl (660 kB)\n",
      "   ---------------------------------------- 0.0/660.9 kB ? eta -:--:--\n",
      "   --------------------------------------  655.4/660.9 kB 20.8 MB/s eta 0:00:01\n",
      "   --------------------------------------  655.4/660.9 kB 20.8 MB/s eta 0:00:01\n",
      "   ---------------------------------------- 660.9/660.9 kB 5.2 MB/s eta 0:00:00\n",
      "Downloading azure_mgmt_resource-23.1.1-py3-none-any.whl (2.6 MB)\n",
      "   ---------------------------------------- 0.0/2.6 MB ? eta -:--:--\n",
      "   ------- -------------------------------- 0.5/2.6 MB 9.8 MB/s eta 0:00:01\n",
      "   ---------------- ----------------------- 1.1/2.6 MB 10.0 MB/s eta 0:00:01\n",
      "   -------------------------- ------------- 1.7/2.6 MB 10.0 MB/s eta 0:00:01\n",
      "   ---------------------------------- ----- 2.3/2.6 MB 9.6 MB/s eta 0:00:01\n",
      "   ---------------------------------------  2.6/2.6 MB 9.7 MB/s eta 0:00:01\n",
      "   ---------------------------------------  2.6/2.6 MB 9.7 MB/s eta 0:00:01\n",
      "   ---------------------------------------- 2.6/2.6 MB 7.8 MB/s eta 0:00:00\n",
      "Downloading azure_mgmt_storage-21.1.0-py3-none-any.whl (3.0 MB)\n",
      "   ---------------------------------------- 0.0/3.0 MB ? eta -:--:--\n",
      "   ---- ----------------------------------- 0.4/3.0 MB 7.6 MB/s eta 0:00:01\n",
      "   ------------ --------------------------- 0.9/3.0 MB 9.5 MB/s eta 0:00:01\n",
      "   --------------------- ------------------ 1.6/3.0 MB 9.2 MB/s eta 0:00:01\n",
      "   --------------------------- ------------ 2.0/3.0 MB 8.6 MB/s eta 0:00:01\n",
      "   --------------------------------- ------ 2.5/3.0 MB 8.9 MB/s eta 0:00:01\n",
      "   ---------------------------------------  3.0/3.0 MB 9.0 MB/s eta 0:00:01\n",
      "   ---------------------------------------  3.0/3.0 MB 9.0 MB/s eta 0:00:01\n",
      "   ---------------------------------------  3.0/3.0 MB 7.9 MB/s eta 0:00:01\n",
      "   ---------------------------------------  3.0/3.0 MB 7.9 MB/s eta 0:00:01\n",
      "   ---------------------------------------  3.0/3.0 MB 7.9 MB/s eta 0:00:01\n",
      "   ---------------------------------------- 3.0/3.0 MB 5.9 MB/s eta 0:00:00\n",
      "Downloading contextlib2-21.6.0-py2.py3-none-any.whl (13 kB)\n",
      "Downloading docker-7.0.0-py3-none-any.whl (147 kB)\n",
      "   ---------------------------------------- 0.0/147.6 kB ? eta -:--:--\n",
      "   --------------------------------- ------ 122.9/147.6 kB ? eta -:--:--\n",
      "   -------------------------------------- - 143.4/147.6 kB 2.1 MB/s eta 0:00:01\n",
      "   ---------------------------------------- 147.6/147.6 kB 1.2 MB/s eta 0:00:00\n",
      "Downloading humanfriendly-10.0-py2.py3-none-any.whl (86 kB)\n",
      "   ---------------------------------------- 0.0/86.8 kB ? eta -:--:--\n",
      "   ------------------------------------- -- 81.9/86.8 kB 4.5 MB/s eta 0:00:01\n",
      "   ---------------------------------------- 86.8/86.8 kB 814.4 kB/s eta 0:00:00\n",
      "Downloading jsonpickle-3.0.4-py3-none-any.whl (39 kB)\n",
      "Downloading knack-0.11.0-py3-none-any.whl (60 kB)\n",
      "   ---------------------------------------- 0.0/60.8 kB ? eta -:--:--\n",
      "   --------------------------------- ------ 51.2/60.8 kB 2.6 MB/s eta 0:00:01\n",
      "   ---------------------------------------- 60.8/60.8 kB 816.3 kB/s eta 0:00:00\n",
      "Downloading msal-1.28.0-py3-none-any.whl (102 kB)\n",
      "   ---------------------------------------- 0.0/102.2 kB ? eta -:--:--\n",
      "   ------------------------------------ --- 92.2/102.2 kB ? eta -:--:--\n",
      "   ---------------------------------------- 102.2/102.2 kB 1.2 MB/s eta 0:00:00\n",
      "Downloading msal_extensions-1.1.0-py3-none-any.whl (19 kB)\n",
      "Downloading msrest-0.7.1-py3-none-any.whl (85 kB)\n",
      "   ---------------------------------------- 0.0/85.4 kB ? eta -:--:--\n",
      "   -------------------------------------- - 81.9/85.4 kB ? eta -:--:--\n",
      "   ---------------------------------------- 85.4/85.4 kB 963.4 kB/s eta 0:00:00\n",
      "Downloading msrestazure-0.6.4-py2.py3-none-any.whl (40 kB)\n",
      "   ---------------------------------------- 0.0/40.5 kB ? eta -:--:--\n",
      "   ------------------------------ --------- 30.7/40.5 kB ? eta -:--:--\n",
      "   ---------------------------------------- 40.5/40.5 kB 488.8 kB/s eta 0:00:00\n",
      "Downloading ndg_httpsclient-0.5.1-py3-none-any.whl (34 kB)\n",
      "Downloading SecretStorage-3.3.3-py3-none-any.whl (15 kB)\n",
      "Downloading urllib3-2.2.1-py3-none-any.whl (121 kB)\n",
      "   ---------------------------------------- 0.0/121.1 kB ? eta -:--:--\n",
      "   ---------------------------------------- 121.1/121.1 kB 2.4 MB/s eta 0:00:00\n",
      "Downloading azure_mgmt_core-1.4.0-py3-none-any.whl (27 kB)\n",
      "Downloading isodate-0.6.1-py2.py3-none-any.whl (41 kB)\n",
      "   ---------------------------------------- 0.0/41.7 kB ? eta -:--:--\n",
      "   ---------------------------------------- 41.7/41.7 kB 1.0 MB/s eta 0:00:00\n",
      "Downloading jeepney-0.8.0-py3-none-any.whl (48 kB)\n",
      "   ---------------------------------------- 0.0/48.4 kB ? eta -:--:--\n",
      "   --------------------------------- ------ 41.0/48.4 kB 2.0 MB/s eta 0:00:01\n",
      "   ---------------------------------------- 48.4/48.4 kB 616.0 kB/s eta 0:00:00\n",
      "Downloading portalocker-2.8.2-py3-none-any.whl (17 kB)\n",
      "Downloading requests_oauthlib-2.0.0-py2.py3-none-any.whl (24 kB)\n",
      "Downloading pyreadline3-3.4.1-py3-none-any.whl (95 kB)\n",
      "   ---------------------------------------- 0.0/95.2 kB ? eta -:--:--\n",
      "   ---------------------------------- ----- 81.9/95.2 kB ? eta -:--:--\n",
      "   -------------------------------------- - 92.2/95.2 kB 2.6 MB/s eta 0:00:01\n",
      "   ---------------------------------------- 95.2/95.2 kB 903.9 kB/s eta 0:00:00\n",
      "Downloading oauthlib-3.2.2-py3-none-any.whl (151 kB)\n",
      "   ---------------------------------------- 0.0/151.7 kB ? eta -:--:--\n",
      "   ------------------------------------- -- 143.4/151.7 kB 8.9 MB/s eta 0:00:01\n",
      "   ------------------------------------- -- 143.4/151.7 kB 8.9 MB/s eta 0:00:01\n",
      "   ---------------------------------------- 151.7/151.7 kB 1.3 MB/s eta 0:00:00\n",
      "Installing collected packages: pyreadline3, azure-common, urllib3, portalocker, oauthlib, jsonpickle, jeepney, isodate, humanfriendly, contextlib2, argcomplete, knack, SecretStorage, requests-oauthlib, docker, azure-core, adal, ndg-httpsclient, msrest, msal, azure-mgmt-core, msrestazure, msal-extensions, azure-mgmt-storage, azure-mgmt-resource, azure-mgmt-network, azure-mgmt-keyvault, azure-mgmt-containerregistry, azure-mgmt-authorization, azure-graphrbac, azureml-core\n",
      "  Attempting uninstall: urllib3\n",
      "    Found existing installation: urllib3 1.26.16\n",
      "    Uninstalling urllib3-1.26.16:\n",
      "      Successfully uninstalled urllib3-1.26.16\n",
      "Successfully installed SecretStorage-3.3.3 adal-1.2.7 argcomplete-3.3.0 azure-common-1.1.28 azure-core-1.30.1 azure-graphrbac-0.61.1 azure-mgmt-authorization-4.0.0 azure-mgmt-containerregistry-10.3.0 azure-mgmt-core-1.4.0 azure-mgmt-keyvault-10.3.0 azure-mgmt-network-25.3.0 azure-mgmt-resource-23.1.1 azure-mgmt-storage-21.1.0 azureml-core-1.56.0 contextlib2-21.6.0 docker-7.0.0 humanfriendly-10.0 isodate-0.6.1 jeepney-0.8.0 jsonpickle-3.0.4 knack-0.11.0 msal-1.28.0 msal-extensions-1.1.0 msrest-0.7.1 msrestazure-0.6.4 ndg-httpsclient-0.5.1 oauthlib-3.2.2 portalocker-2.8.2 pyreadline3-3.4.1 requests-oauthlib-2.0.0 urllib3-2.2.1\n",
      "Note: you may need to restart the kernel to use updated packages.\n"
     ]
    },
    {
     "name": "stderr",
     "output_type": "stream",
     "text": [
      "ERROR: pip's dependency resolver does not currently take into account all the packages that are installed. This behaviour is the source of the following dependency conflicts.\n",
      "botocore 1.29.76 requires urllib3<1.27,>=1.25.4, but you have urllib3 2.2.1 which is incompatible.\n"
     ]
    }
   ],
   "source": [
    "pip install azureml-core"
   ]
  },
  {
   "cell_type": "code",
   "execution_count": 5,
   "id": "f48ba746",
   "metadata": {},
   "outputs": [
    {
     "name": "stderr",
     "output_type": "stream",
     "text": [
      "C:\\Users\\Lenovo\\AppData\\Local\\anaconda3\\Lib\\site-packages\\paramiko\\transport.py:219: CryptographyDeprecationWarning: Blowfish has been deprecated\n",
      "  \"class\": algorithms.Blowfish,\n"
     ]
    }
   ],
   "source": [
    "import azureml.core\n"
   ]
  },
  {
   "cell_type": "code",
   "execution_count": 8,
   "id": "a5fe908d",
   "metadata": {},
   "outputs": [
    {
     "name": "stdout",
     "output_type": "stream",
     "text": [
      "1.56.0\n"
     ]
    }
   ],
   "source": [
    "print(azureml.core.VERSION)"
   ]
  },
  {
   "cell_type": "code",
   "execution_count": 11,
   "id": "6c3730b4",
   "metadata": {},
   "outputs": [],
   "source": [
    "from azureml.core import Workspace\n",
    "from azureml.core.model import Model"
   ]
  },
  {
   "cell_type": "code",
   "execution_count": 7,
   "id": "a7ff542c",
   "metadata": {},
   "outputs": [],
   "source": [
    "from azureml.core import Experiment\n",
    "from azureml.core.webservice import Webservice\n",
    "from azureml.core.image import ContainerImage\n",
    "from azureml.core.webservice import AciWebservice\n",
    "from azureml.core.conda_dependencies import CondaDependencies"
   ]
  },
  {
   "cell_type": "code",
   "execution_count": 13,
   "id": "ba26bf09",
   "metadata": {},
   "outputs": [
    {
     "name": "stdout",
     "output_type": "stream",
     "text": [
      "Performing interactive authentication. Please follow the instructions on the terminal.\n"
     ]
    },
    {
     "name": "stderr",
     "output_type": "stream",
     "text": [
      "The default web browser has been opened at https://login.microsoftonline.com/organizations/oauth2/v2.0/authorize. Please continue the login in the web browser. If no web browser is available or if the web browser fails to open, use device code flow with `az login --use-device-code`.\n"
     ]
    },
    {
     "name": "stdout",
     "output_type": "stream",
     "text": [
      "Interactive authentication successfully completed.\n",
      "Deploying StorageAccount with name nlpwsstorage05d8cb054175.\n",
      "Deploying KeyVault with name nlpwskeyvault7d7e663cafd.\n",
      "Deploying Workspace with name NlpWS.\n",
      "Deploying AppInsights with name nlpwsinsightsbbf4026a280.\n",
      "Deployed AppInsights with name nlpwsinsightsbbf4026a280. Took 56.37 seconds.\n",
      "Deployed Workspace with name NlpWS. Took 37.08 seconds.\n"
     ]
    }
   ],
   "source": [
    "ws = Workspace.create(name='NlpWS',\n",
    "                     subscription_id='19593572-50c1-42d7-bbf7-6943480047da',\n",
    "                     resource_group='TrialMlNlp',\n",
    "                     create_resource_group=True,\n",
    "                     location='centralindia')"
   ]
  },
  {
   "cell_type": "code",
   "execution_count": 14,
   "id": "e13cda38",
   "metadata": {},
   "outputs": [],
   "source": [
    "ws.write_config()"
   ]
  },
  {
   "cell_type": "code",
   "execution_count": 15,
   "id": "84c3f366",
   "metadata": {},
   "outputs": [],
   "source": [
    "ws = Workspace.from_config()"
   ]
  },
  {
   "cell_type": "code",
   "execution_count": 16,
   "id": "3db657dd",
   "metadata": {},
   "outputs": [
    {
     "data": {
      "text/plain": [
       "{'id': '/subscriptions/19593572-50c1-42d7-bbf7-6943480047da/resourceGroups/TrialMlNlp/providers/Microsoft.MachineLearningServices/workspaces/NlpWS',\n",
       " 'name': 'NlpWS',\n",
       " 'identity': {'principal_id': 'd8811122-782b-426e-8a4d-1c506e6526c5',\n",
       "  'tenant_id': '29df0a5a-2324-42d3-b0b6-f250b684fa2c',\n",
       "  'type': 'SystemAssigned'},\n",
       " 'location': 'centralindia',\n",
       " 'type': 'Microsoft.MachineLearningServices/workspaces',\n",
       " 'tags': {'createdByToolkit': 'sdk-v1-1.56.0'},\n",
       " 'sku': 'Basic',\n",
       " 'workspaceid': 'f9afe70f-0f0f-4064-b914-d8315d05adcd',\n",
       " 'sdkTelemetryAppInsightsKey': '2686dfa3-0a3f-46eb-8a5c-dad40a7821ef',\n",
       " 'description': '',\n",
       " 'friendlyName': 'NlpWS',\n",
       " 'creationTime': '2024-05-09T19:13:56.7809189Z',\n",
       " 'keyVault': '/subscriptions/19593572-50c1-42d7-bbf7-6943480047da/resourceGroups/TrialMlNlp/providers/Microsoft.Keyvault/vaults/nlpwskeyvault7d7e663cafd',\n",
       " 'applicationInsights': '/subscriptions/19593572-50c1-42d7-bbf7-6943480047da/resourceGroups/TrialMlNlp/providers/Microsoft.insights/components/nlpwsinsightsbbf4026a280',\n",
       " 'storageAccount': '/subscriptions/19593572-50c1-42d7-bbf7-6943480047da/resourceGroups/TrialMlNlp/providers/Microsoft.Storage/storageAccounts/nlpwsstorage05d8cb054175',\n",
       " 'hbiWorkspace': False,\n",
       " 'provisioningState': 'Succeeded',\n",
       " 'discoveryUrl': 'https://centralindia.api.azureml.ms/discovery',\n",
       " 'notebookInfo': {'fqdn': 'ml-nlpws-centralindia-f9afe70f-0f0f-4064-b914-d8315d05adcd.centralindia.notebooks.azure.net',\n",
       "  'resource_id': '74ce6100a898421aa7452767c5a5f385'},\n",
       " 'v1LegacyMode': False}"
      ]
     },
     "execution_count": 16,
     "metadata": {},
     "output_type": "execute_result"
    }
   ],
   "source": [
    "ws.get_details()"
   ]
  },
  {
   "cell_type": "code",
   "execution_count": 18,
   "id": "bb6c9db6",
   "metadata": {},
   "outputs": [],
   "source": [
    "exp = Experiment(workspace=ws, name='EmotionsXp')"
   ]
  },
  {
   "cell_type": "code",
   "execution_count": 39,
   "id": "f2417cb6",
   "metadata": {},
   "outputs": [],
   "source": [
    "run= exp.start_logging()\n",
    "run.log(\"Experiment st time\",str(datetime.now()))"
   ]
  },
  {
   "cell_type": "markdown",
   "id": "805a8df1",
   "metadata": {},
   "source": [
    "# Azure ML Part ends"
   ]
  },
  {
   "cell_type": "code",
   "execution_count": 1,
   "id": "e79e0c73",
   "metadata": {},
   "outputs": [
    {
     "data": {
      "text/html": [
       "<div>\n",
       "<style scoped>\n",
       "    .dataframe tbody tr th:only-of-type {\n",
       "        vertical-align: middle;\n",
       "    }\n",
       "\n",
       "    .dataframe tbody tr th {\n",
       "        vertical-align: top;\n",
       "    }\n",
       "\n",
       "    .dataframe thead th {\n",
       "        text-align: right;\n",
       "    }\n",
       "</style>\n",
       "<table border=\"1\" class=\"dataframe\">\n",
       "  <thead>\n",
       "    <tr style=\"text-align: right;\">\n",
       "      <th></th>\n",
       "      <th>Unnamed: 0</th>\n",
       "      <th>text</th>\n",
       "      <th>label</th>\n",
       "    </tr>\n",
       "  </thead>\n",
       "  <tbody>\n",
       "    <tr>\n",
       "      <th>0</th>\n",
       "      <td>0</td>\n",
       "      <td>i just feel really helpless and heavy hearted</td>\n",
       "      <td>4</td>\n",
       "    </tr>\n",
       "    <tr>\n",
       "      <th>1</th>\n",
       "      <td>1</td>\n",
       "      <td>ive enjoyed being able to slouch about relax a...</td>\n",
       "      <td>0</td>\n",
       "    </tr>\n",
       "    <tr>\n",
       "      <th>2</th>\n",
       "      <td>2</td>\n",
       "      <td>i gave up my internship with the dmrg and am f...</td>\n",
       "      <td>4</td>\n",
       "    </tr>\n",
       "    <tr>\n",
       "      <th>3</th>\n",
       "      <td>3</td>\n",
       "      <td>i dont know i feel so lost</td>\n",
       "      <td>0</td>\n",
       "    </tr>\n",
       "    <tr>\n",
       "      <th>4</th>\n",
       "      <td>4</td>\n",
       "      <td>i am a kindergarten teacher and i am thoroughl...</td>\n",
       "      <td>4</td>\n",
       "    </tr>\n",
       "  </tbody>\n",
       "</table>\n",
       "</div>"
      ],
      "text/plain": [
       "   Unnamed: 0                                               text  label\n",
       "0           0      i just feel really helpless and heavy hearted      4\n",
       "1           1  ive enjoyed being able to slouch about relax a...      0\n",
       "2           2  i gave up my internship with the dmrg and am f...      4\n",
       "3           3                         i dont know i feel so lost      0\n",
       "4           4  i am a kindergarten teacher and i am thoroughl...      4"
      ]
     },
     "execution_count": 1,
     "metadata": {},
     "output_type": "execute_result"
    }
   ],
   "source": [
    "import pandas as pd\n",
    "df= pd.read_csv(\"Emotions.csv\")\n",
    "df.head()"
   ]
  },
  {
   "cell_type": "code",
   "execution_count": 2,
   "id": "6d253374",
   "metadata": {},
   "outputs": [
    {
     "name": "stdout",
     "output_type": "stream",
     "text": [
      "['i', 'me', 'my', 'myself', 'we', 'our', 'ours', 'ourselves', 'you', \"you're\", \"you've\", \"you'll\", \"you'd\", 'your', 'yours', 'yourself', 'yourselves', 'he', 'him', 'his', 'himself', 'she', \"she's\", 'her', 'hers', 'herself', 'it', \"it's\", 'its', 'itself', 'they', 'them', 'their', 'theirs', 'themselves', 'what', 'which', 'who', 'whom', 'this', 'that', \"that'll\", 'these', 'those', 'am', 'is', 'are', 'was', 'were', 'be', 'been', 'being', 'have', 'has', 'had', 'having', 'do', 'does', 'did', 'doing', 'a', 'an', 'the', 'and', 'but', 'if', 'or', 'because', 'as', 'until', 'while', 'of', 'at', 'by', 'for', 'with', 'about', 'against', 'between', 'into', 'through', 'during', 'before', 'after', 'above', 'below', 'to', 'from', 'up', 'down', 'in', 'out', 'on', 'off', 'over', 'under', 'again', 'further', 'then', 'once', 'here', 'there', 'when', 'where', 'why', 'how', 'all', 'any', 'both', 'each', 'few', 'more', 'most', 'other', 'some', 'such', 'no', 'nor', 'not', 'only', 'own', 'same', 'so', 'than', 'too', 'very', 's', 't', 'can', 'will', 'just', 'don', \"don't\", 'should', \"should've\", 'now', 'd', 'll', 'm', 'o', 're', 've', 'y', 'ain', 'aren', \"aren't\", 'couldn', \"couldn't\", 'didn', \"didn't\", 'doesn', \"doesn't\", 'hadn', \"hadn't\", 'hasn', \"hasn't\", 'haven', \"haven't\", 'isn', \"isn't\", 'ma', 'mightn', \"mightn't\", 'mustn', \"mustn't\", 'needn', \"needn't\", 'shan', \"shan't\", 'shouldn', \"shouldn't\", 'wasn', \"wasn't\", 'weren', \"weren't\", 'won', \"won't\", 'wouldn', \"wouldn't\"]\n"
     ]
    },
    {
     "name": "stderr",
     "output_type": "stream",
     "text": [
      "[nltk_data] Downloading package stopwords to\n",
      "[nltk_data]     C:\\Users\\Lenovo\\AppData\\Roaming\\nltk_data...\n",
      "[nltk_data]   Package stopwords is already up-to-date!\n"
     ]
    }
   ],
   "source": [
    "import nltk\n",
    "from nltk.corpus import stopwords\n",
    "nltk.download('stopwords')\n",
    "print(stopwords.words('english'))"
   ]
  },
  {
   "cell_type": "code",
   "execution_count": 3,
   "id": "65906815",
   "metadata": {},
   "outputs": [],
   "source": [
    "import datetime\n",
    "from datetime import datetime"
   ]
  },
  {
   "cell_type": "code",
   "execution_count": 4,
   "id": "72fdcb20",
   "metadata": {},
   "outputs": [],
   "source": [
    "stop_words = set(stopwords.words(\"english\"))"
   ]
  },
  {
   "cell_type": "markdown",
   "id": "6db72253",
   "metadata": {},
   "source": [
    "# This is method for removing stopwords"
   ]
  },
  {
   "cell_type": "code",
   "execution_count": 5,
   "id": "687bcb97",
   "metadata": {},
   "outputs": [],
   "source": [
    "def remove_stopwords(text):\n",
    "    new_text=[]\n",
    "    for word in text.split():\n",
    "        if word in stop_words:\n",
    "            new_text.append('')\n",
    "            \n",
    "        else:\n",
    "            new_text.append(word)\n",
    "            \n",
    "    x= new_text[:]\n",
    "    new_text.clear()\n",
    "    return ' '.join(x)"
   ]
  },
  {
   "cell_type": "code",
   "execution_count": 6,
   "id": "80e3f927",
   "metadata": {},
   "outputs": [],
   "source": [
    "df['text']=df['text'].apply(remove_stopwords)"
   ]
  },
  {
   "cell_type": "code",
   "execution_count": 52,
   "id": "d8f17816",
   "metadata": {},
   "outputs": [
    {
     "data": {
      "text/html": [
       "<div>\n",
       "<style scoped>\n",
       "    .dataframe tbody tr th:only-of-type {\n",
       "        vertical-align: middle;\n",
       "    }\n",
       "\n",
       "    .dataframe tbody tr th {\n",
       "        vertical-align: top;\n",
       "    }\n",
       "\n",
       "    .dataframe thead th {\n",
       "        text-align: right;\n",
       "    }\n",
       "</style>\n",
       "<table border=\"1\" class=\"dataframe\">\n",
       "  <thead>\n",
       "    <tr style=\"text-align: right;\">\n",
       "      <th></th>\n",
       "      <th>Unnamed: 0</th>\n",
       "      <th>text</th>\n",
       "      <th>label</th>\n",
       "      <th>Word Count</th>\n",
       "    </tr>\n",
       "  </thead>\n",
       "  <tbody>\n",
       "    <tr>\n",
       "      <th>0</th>\n",
       "      <td>0</td>\n",
       "      <td>feel really helpless  heavy hearted</td>\n",
       "      <td>4</td>\n",
       "      <td>8</td>\n",
       "    </tr>\n",
       "    <tr>\n",
       "      <th>1</th>\n",
       "      <td>1</td>\n",
       "      <td>ive enjoyed  able  slouch  relax  unwind  fran...</td>\n",
       "      <td>0</td>\n",
       "      <td>45</td>\n",
       "    </tr>\n",
       "    <tr>\n",
       "      <th>2</th>\n",
       "      <td>2</td>\n",
       "      <td>gave   internship   dmrg   feeling distraught</td>\n",
       "      <td>4</td>\n",
       "      <td>12</td>\n",
       "    </tr>\n",
       "    <tr>\n",
       "      <th>3</th>\n",
       "      <td>3</td>\n",
       "      <td>dont know  feel  lost</td>\n",
       "      <td>0</td>\n",
       "      <td>7</td>\n",
       "    </tr>\n",
       "    <tr>\n",
       "      <th>4</th>\n",
       "      <td>4</td>\n",
       "      <td>kindergarten teacher    thoroughly weary   ...</td>\n",
       "      <td>4</td>\n",
       "      <td>42</td>\n",
       "    </tr>\n",
       "    <tr>\n",
       "      <th>...</th>\n",
       "      <td>...</td>\n",
       "      <td>...</td>\n",
       "      <td>...</td>\n",
       "      <td>...</td>\n",
       "    </tr>\n",
       "    <tr>\n",
       "      <th>416804</th>\n",
       "      <td>416804</td>\n",
       "      <td>feel like telling  horny devils  find  site  ...</td>\n",
       "      <td>2</td>\n",
       "      <td>26</td>\n",
       "    </tr>\n",
       "    <tr>\n",
       "      <th>416805</th>\n",
       "      <td>416805</td>\n",
       "      <td>began  realize     feeling agitated  restless...</td>\n",
       "      <td>3</td>\n",
       "      <td>23</td>\n",
       "    </tr>\n",
       "    <tr>\n",
       "      <th>416806</th>\n",
       "      <td>416806</td>\n",
       "      <td>feel  curious   previous early dawn   time   ...</td>\n",
       "      <td>5</td>\n",
       "      <td>19</td>\n",
       "    </tr>\n",
       "    <tr>\n",
       "      <th>416807</th>\n",
       "      <td>416807</td>\n",
       "      <td>feel  becuase   tyranical nature   government...</td>\n",
       "      <td>3</td>\n",
       "      <td>41</td>\n",
       "    </tr>\n",
       "    <tr>\n",
       "      <th>416808</th>\n",
       "      <td>416808</td>\n",
       "      <td>think     spent  time investigating  surround...</td>\n",
       "      <td>5</td>\n",
       "      <td>23</td>\n",
       "    </tr>\n",
       "  </tbody>\n",
       "</table>\n",
       "<p>416809 rows × 4 columns</p>\n",
       "</div>"
      ],
      "text/plain": [
       "        Unnamed: 0                                               text  label  \\\n",
       "0                0                feel really helpless  heavy hearted      4   \n",
       "1                1  ive enjoyed  able  slouch  relax  unwind  fran...      0   \n",
       "2                2      gave   internship   dmrg   feeling distraught      4   \n",
       "3                3                              dont know  feel  lost      0   \n",
       "4                4     kindergarten teacher    thoroughly weary   ...      4   \n",
       "...            ...                                                ...    ...   \n",
       "416804      416804   feel like telling  horny devils  find  site  ...      2   \n",
       "416805      416805   began  realize     feeling agitated  restless...      3   \n",
       "416806      416806   feel  curious   previous early dawn   time   ...      5   \n",
       "416807      416807   feel  becuase   tyranical nature   government...      3   \n",
       "416808      416808   think     spent  time investigating  surround...      5   \n",
       "\n",
       "        Word Count  \n",
       "0                8  \n",
       "1               45  \n",
       "2               12  \n",
       "3                7  \n",
       "4               42  \n",
       "...            ...  \n",
       "416804          26  \n",
       "416805          23  \n",
       "416806          19  \n",
       "416807          41  \n",
       "416808          23  \n",
       "\n",
       "[416809 rows x 4 columns]"
      ]
     },
     "execution_count": 52,
     "metadata": {},
     "output_type": "execute_result"
    }
   ],
   "source": [
    "df\n"
   ]
  },
  {
   "cell_type": "markdown",
   "id": "1aa37330",
   "metadata": {},
   "source": [
    "# Counting words in each row and adding it as seperate column"
   ]
  },
  {
   "cell_type": "code",
   "execution_count": 8,
   "id": "8d16e24a",
   "metadata": {},
   "outputs": [],
   "source": [
    "def Word_Count(text):\n",
    "    c=0\n",
    "    for word in text.split(' '):\n",
    "        c=c+1\n",
    "    return c\n",
    "        "
   ]
  },
  {
   "cell_type": "code",
   "execution_count": 9,
   "id": "a8714070",
   "metadata": {},
   "outputs": [],
   "source": [
    "df[\"Word Count\"]=df['text'].apply(Word_Count)"
   ]
  },
  {
   "cell_type": "markdown",
   "id": "280419ae",
   "metadata": {},
   "source": [
    "#counting unique words"
   ]
  },
  {
   "cell_type": "code",
   "execution_count": 10,
   "id": "152c36d4",
   "metadata": {},
   "outputs": [
    {
     "name": "stdout",
     "output_type": "stream",
     "text": [
      "75151\n"
     ]
    }
   ],
   "source": [
    "U_wrds= set()\n",
    "for d in df['text']:\n",
    "    for e in d.split(\" \"):\n",
    "        U_wrds.add(e)\n",
    "print(len(U_wrds))\n",
    "        \n",
    "        \n",
    "        "
   ]
  },
  {
   "cell_type": "code",
   "execution_count": 12,
   "id": "76baadea",
   "metadata": {},
   "outputs": [],
   "source": [
    "df1= df.loc[0:5000]"
   ]
  },
  {
   "cell_type": "code",
   "execution_count": 13,
   "id": "04fc41d6",
   "metadata": {},
   "outputs": [],
   "source": [
    "x= df1.iloc[:,1:2]\n",
    "y= df1['label']"
   ]
  },
  {
   "cell_type": "markdown",
   "id": "58807a6d",
   "metadata": {},
   "source": [
    "# Train test process using random forest model"
   ]
  },
  {
   "cell_type": "code",
   "execution_count": 34,
   "id": "8aed7791",
   "metadata": {},
   "outputs": [],
   "source": [
    "from sklearn.model_selection import train_test_split\n",
    "X_train,X_test,y_train,y_test= train_test_split(x,y,test_size=0.2,random_state=1)"
   ]
  },
  {
   "cell_type": "code",
   "execution_count": 38,
   "id": "cde0dd7c",
   "metadata": {},
   "outputs": [],
   "source": [
    "from sklearn.preprocessing import LabelEncoder\n",
    "encoder=LabelEncoder()\n",
    "y_train_ecn=encoder.fit_transform(y_train)"
   ]
  },
  {
   "cell_type": "code",
   "execution_count": 53,
   "id": "19abdf74",
   "metadata": {},
   "outputs": [
    {
     "data": {
      "text/plain": [
       "1056    0\n",
       "1686    5\n",
       "187     3\n",
       "3840    5\n",
       "1525    1\n",
       "       ..\n",
       "2895    4\n",
       "2763    0\n",
       "905     1\n",
       "3980    0\n",
       "235     1\n",
       "Name: label, Length: 4000, dtype: int64"
      ]
     },
     "execution_count": 53,
     "metadata": {},
     "output_type": "execute_result"
    }
   ],
   "source": [
    "y_train"
   ]
  },
  {
   "cell_type": "code",
   "execution_count": 54,
   "id": "3803fa00",
   "metadata": {},
   "outputs": [],
   "source": [
    "from sklearn.feature_extraction.text import TfidfVectorizer"
   ]
  },
  {
   "cell_type": "code",
   "execution_count": 55,
   "id": "1de953c8",
   "metadata": {},
   "outputs": [],
   "source": [
    "tfvd= TfidfVectorizer(min_df=0.0, max_df=1.0, ngram_range=(1,2),sublinear_tf=True)"
   ]
  },
  {
   "cell_type": "code",
   "execution_count": 74,
   "id": "f4a875b2",
   "metadata": {},
   "outputs": [],
   "source": [
    "tfv_train= tfvd.fit_transform(X_train['text']).toarray()"
   ]
  },
  {
   "cell_type": "code",
   "execution_count": 75,
   "id": "39e1598a",
   "metadata": {},
   "outputs": [],
   "source": [
    "tfv_test= tfvd.transform(X_test['text']).toarray()"
   ]
  },
  {
   "cell_type": "code",
   "execution_count": 62,
   "id": "81f39f76",
   "metadata": {},
   "outputs": [
    {
     "data": {
      "text/plain": [
       "array([[0., 0., 0., ..., 0., 0., 0.],\n",
       "       [0., 0., 0., ..., 0., 0., 0.],\n",
       "       [0., 0., 0., ..., 0., 0., 0.],\n",
       "       ...,\n",
       "       [0., 0., 0., ..., 0., 0., 0.],\n",
       "       [0., 0., 0., ..., 0., 0., 0.],\n",
       "       [0., 0., 0., ..., 0., 0., 0.]])"
      ]
     },
     "execution_count": 62,
     "metadata": {},
     "output_type": "execute_result"
    }
   ],
   "source": [
    "tfv_test"
   ]
  },
  {
   "cell_type": "code",
   "execution_count": 63,
   "id": "4942c85e",
   "metadata": {},
   "outputs": [
    {
     "data": {
      "text/html": [
       "<style>#sk-container-id-2 {color: black;}#sk-container-id-2 pre{padding: 0;}#sk-container-id-2 div.sk-toggleable {background-color: white;}#sk-container-id-2 label.sk-toggleable__label {cursor: pointer;display: block;width: 100%;margin-bottom: 0;padding: 0.3em;box-sizing: border-box;text-align: center;}#sk-container-id-2 label.sk-toggleable__label-arrow:before {content: \"▸\";float: left;margin-right: 0.25em;color: #696969;}#sk-container-id-2 label.sk-toggleable__label-arrow:hover:before {color: black;}#sk-container-id-2 div.sk-estimator:hover label.sk-toggleable__label-arrow:before {color: black;}#sk-container-id-2 div.sk-toggleable__content {max-height: 0;max-width: 0;overflow: hidden;text-align: left;background-color: #f0f8ff;}#sk-container-id-2 div.sk-toggleable__content pre {margin: 0.2em;color: black;border-radius: 0.25em;background-color: #f0f8ff;}#sk-container-id-2 input.sk-toggleable__control:checked~div.sk-toggleable__content {max-height: 200px;max-width: 100%;overflow: auto;}#sk-container-id-2 input.sk-toggleable__control:checked~label.sk-toggleable__label-arrow:before {content: \"▾\";}#sk-container-id-2 div.sk-estimator input.sk-toggleable__control:checked~label.sk-toggleable__label {background-color: #d4ebff;}#sk-container-id-2 div.sk-label input.sk-toggleable__control:checked~label.sk-toggleable__label {background-color: #d4ebff;}#sk-container-id-2 input.sk-hidden--visually {border: 0;clip: rect(1px 1px 1px 1px);clip: rect(1px, 1px, 1px, 1px);height: 1px;margin: -1px;overflow: hidden;padding: 0;position: absolute;width: 1px;}#sk-container-id-2 div.sk-estimator {font-family: monospace;background-color: #f0f8ff;border: 1px dotted black;border-radius: 0.25em;box-sizing: border-box;margin-bottom: 0.5em;}#sk-container-id-2 div.sk-estimator:hover {background-color: #d4ebff;}#sk-container-id-2 div.sk-parallel-item::after {content: \"\";width: 100%;border-bottom: 1px solid gray;flex-grow: 1;}#sk-container-id-2 div.sk-label:hover label.sk-toggleable__label {background-color: #d4ebff;}#sk-container-id-2 div.sk-serial::before {content: \"\";position: absolute;border-left: 1px solid gray;box-sizing: border-box;top: 0;bottom: 0;left: 50%;z-index: 0;}#sk-container-id-2 div.sk-serial {display: flex;flex-direction: column;align-items: center;background-color: white;padding-right: 0.2em;padding-left: 0.2em;position: relative;}#sk-container-id-2 div.sk-item {position: relative;z-index: 1;}#sk-container-id-2 div.sk-parallel {display: flex;align-items: stretch;justify-content: center;background-color: white;position: relative;}#sk-container-id-2 div.sk-item::before, #sk-container-id-2 div.sk-parallel-item::before {content: \"\";position: absolute;border-left: 1px solid gray;box-sizing: border-box;top: 0;bottom: 0;left: 50%;z-index: -1;}#sk-container-id-2 div.sk-parallel-item {display: flex;flex-direction: column;z-index: 1;position: relative;background-color: white;}#sk-container-id-2 div.sk-parallel-item:first-child::after {align-self: flex-end;width: 50%;}#sk-container-id-2 div.sk-parallel-item:last-child::after {align-self: flex-start;width: 50%;}#sk-container-id-2 div.sk-parallel-item:only-child::after {width: 0;}#sk-container-id-2 div.sk-dashed-wrapped {border: 1px dashed gray;margin: 0 0.4em 0.5em 0.4em;box-sizing: border-box;padding-bottom: 0.4em;background-color: white;}#sk-container-id-2 div.sk-label label {font-family: monospace;font-weight: bold;display: inline-block;line-height: 1.2em;}#sk-container-id-2 div.sk-label-container {text-align: center;}#sk-container-id-2 div.sk-container {/* jupyter's `normalize.less` sets `[hidden] { display: none; }` but bootstrap.min.css set `[hidden] { display: none !important; }` so we also need the `!important` here to be able to override the default hidden behavior on the sphinx rendered scikit-learn.org. See: https://github.com/scikit-learn/scikit-learn/issues/21755 */display: inline-block !important;position: relative;}#sk-container-id-2 div.sk-text-repr-fallback {display: none;}</style><div id=\"sk-container-id-2\" class=\"sk-top-container\"><div class=\"sk-text-repr-fallback\"><pre>RandomForestClassifier(n_estimators=50)</pre><b>In a Jupyter environment, please rerun this cell to show the HTML representation or trust the notebook. <br />On GitHub, the HTML representation is unable to render, please try loading this page with nbviewer.org.</b></div><div class=\"sk-container\" hidden><div class=\"sk-item\"><div class=\"sk-estimator sk-toggleable\"><input class=\"sk-toggleable__control sk-hidden--visually\" id=\"sk-estimator-id-2\" type=\"checkbox\" checked><label for=\"sk-estimator-id-2\" class=\"sk-toggleable__label sk-toggleable__label-arrow\">RandomForestClassifier</label><div class=\"sk-toggleable__content\"><pre>RandomForestClassifier(n_estimators=50)</pre></div></div></div></div></div>"
      ],
      "text/plain": [
       "RandomForestClassifier(n_estimators=50)"
      ]
     },
     "execution_count": 63,
     "metadata": {},
     "output_type": "execute_result"
    }
   ],
   "source": [
    "from sklearn.ensemble import RandomForestClassifier\n",
    "rf= RandomForestClassifier(n_estimators=50)\n"
   ]
  },
  {
   "cell_type": "code",
   "execution_count": 89,
   "id": "14b622d8",
   "metadata": {},
   "outputs": [
    {
     "data": {
      "text/html": [
       "<style>#sk-container-id-5 {color: black;}#sk-container-id-5 pre{padding: 0;}#sk-container-id-5 div.sk-toggleable {background-color: white;}#sk-container-id-5 label.sk-toggleable__label {cursor: pointer;display: block;width: 100%;margin-bottom: 0;padding: 0.3em;box-sizing: border-box;text-align: center;}#sk-container-id-5 label.sk-toggleable__label-arrow:before {content: \"▸\";float: left;margin-right: 0.25em;color: #696969;}#sk-container-id-5 label.sk-toggleable__label-arrow:hover:before {color: black;}#sk-container-id-5 div.sk-estimator:hover label.sk-toggleable__label-arrow:before {color: black;}#sk-container-id-5 div.sk-toggleable__content {max-height: 0;max-width: 0;overflow: hidden;text-align: left;background-color: #f0f8ff;}#sk-container-id-5 div.sk-toggleable__content pre {margin: 0.2em;color: black;border-radius: 0.25em;background-color: #f0f8ff;}#sk-container-id-5 input.sk-toggleable__control:checked~div.sk-toggleable__content {max-height: 200px;max-width: 100%;overflow: auto;}#sk-container-id-5 input.sk-toggleable__control:checked~label.sk-toggleable__label-arrow:before {content: \"▾\";}#sk-container-id-5 div.sk-estimator input.sk-toggleable__control:checked~label.sk-toggleable__label {background-color: #d4ebff;}#sk-container-id-5 div.sk-label input.sk-toggleable__control:checked~label.sk-toggleable__label {background-color: #d4ebff;}#sk-container-id-5 input.sk-hidden--visually {border: 0;clip: rect(1px 1px 1px 1px);clip: rect(1px, 1px, 1px, 1px);height: 1px;margin: -1px;overflow: hidden;padding: 0;position: absolute;width: 1px;}#sk-container-id-5 div.sk-estimator {font-family: monospace;background-color: #f0f8ff;border: 1px dotted black;border-radius: 0.25em;box-sizing: border-box;margin-bottom: 0.5em;}#sk-container-id-5 div.sk-estimator:hover {background-color: #d4ebff;}#sk-container-id-5 div.sk-parallel-item::after {content: \"\";width: 100%;border-bottom: 1px solid gray;flex-grow: 1;}#sk-container-id-5 div.sk-label:hover label.sk-toggleable__label {background-color: #d4ebff;}#sk-container-id-5 div.sk-serial::before {content: \"\";position: absolute;border-left: 1px solid gray;box-sizing: border-box;top: 0;bottom: 0;left: 50%;z-index: 0;}#sk-container-id-5 div.sk-serial {display: flex;flex-direction: column;align-items: center;background-color: white;padding-right: 0.2em;padding-left: 0.2em;position: relative;}#sk-container-id-5 div.sk-item {position: relative;z-index: 1;}#sk-container-id-5 div.sk-parallel {display: flex;align-items: stretch;justify-content: center;background-color: white;position: relative;}#sk-container-id-5 div.sk-item::before, #sk-container-id-5 div.sk-parallel-item::before {content: \"\";position: absolute;border-left: 1px solid gray;box-sizing: border-box;top: 0;bottom: 0;left: 50%;z-index: -1;}#sk-container-id-5 div.sk-parallel-item {display: flex;flex-direction: column;z-index: 1;position: relative;background-color: white;}#sk-container-id-5 div.sk-parallel-item:first-child::after {align-self: flex-end;width: 50%;}#sk-container-id-5 div.sk-parallel-item:last-child::after {align-self: flex-start;width: 50%;}#sk-container-id-5 div.sk-parallel-item:only-child::after {width: 0;}#sk-container-id-5 div.sk-dashed-wrapped {border: 1px dashed gray;margin: 0 0.4em 0.5em 0.4em;box-sizing: border-box;padding-bottom: 0.4em;background-color: white;}#sk-container-id-5 div.sk-label label {font-family: monospace;font-weight: bold;display: inline-block;line-height: 1.2em;}#sk-container-id-5 div.sk-label-container {text-align: center;}#sk-container-id-5 div.sk-container {/* jupyter's `normalize.less` sets `[hidden] { display: none; }` but bootstrap.min.css set `[hidden] { display: none !important; }` so we also need the `!important` here to be able to override the default hidden behavior on the sphinx rendered scikit-learn.org. See: https://github.com/scikit-learn/scikit-learn/issues/21755 */display: inline-block !important;position: relative;}#sk-container-id-5 div.sk-text-repr-fallback {display: none;}</style><div id=\"sk-container-id-5\" class=\"sk-top-container\"><div class=\"sk-text-repr-fallback\"><pre>RandomForestClassifier(n_estimators=50)</pre><b>In a Jupyter environment, please rerun this cell to show the HTML representation or trust the notebook. <br />On GitHub, the HTML representation is unable to render, please try loading this page with nbviewer.org.</b></div><div class=\"sk-container\" hidden><div class=\"sk-item\"><div class=\"sk-estimator sk-toggleable\"><input class=\"sk-toggleable__control sk-hidden--visually\" id=\"sk-estimator-id-5\" type=\"checkbox\" checked><label for=\"sk-estimator-id-5\" class=\"sk-toggleable__label sk-toggleable__label-arrow\">RandomForestClassifier</label><div class=\"sk-toggleable__content\"><pre>RandomForestClassifier(n_estimators=50)</pre></div></div></div></div></div>"
      ],
      "text/plain": [
       "RandomForestClassifier(n_estimators=50)"
      ]
     },
     "execution_count": 89,
     "metadata": {},
     "output_type": "execute_result"
    }
   ],
   "source": [
    "rf.fit(tfv_train,y_train)"
   ]
  },
  {
   "cell_type": "code",
   "execution_count": 76,
   "id": "10c54c77",
   "metadata": {},
   "outputs": [
    {
     "name": "stdout",
     "output_type": "stream",
     "text": [
      "(4000, 34297)\n",
      "(1001, 34297)\n"
     ]
    }
   ],
   "source": [
    "print(tfv_train.shape)\n",
    "print(tfv_test.shape)"
   ]
  },
  {
   "cell_type": "code",
   "execution_count": 78,
   "id": "fa53effb",
   "metadata": {},
   "outputs": [],
   "source": [
    "y_pred= rf.predict(tfv_test)"
   ]
  },
  {
   "cell_type": "code",
   "execution_count": 79,
   "id": "b4e7f7fd",
   "metadata": {},
   "outputs": [
    {
     "data": {
      "text/plain": [
       "0.8301698301698301"
      ]
     },
     "execution_count": 79,
     "metadata": {},
     "output_type": "execute_result"
    }
   ],
   "source": [
    "from sklearn.metrics import accuracy_score ,confusion_matrix\n",
    "accuracy_score(y_test,y_pred)"
   ]
  },
  {
   "cell_type": "markdown",
   "id": "dbdaf7f3",
   "metadata": {},
   "source": [
    " (0), joy (1), love (2), anger (3), fear (4), and surprise (5)"
   ]
  },
  {
   "cell_type": "code",
   "execution_count": 93,
   "id": "3969ab52",
   "metadata": {},
   "outputs": [],
   "source": [
    "ch=[\"I am in love and awe\",\"I am shocked\"]"
   ]
  },
  {
   "cell_type": "code",
   "execution_count": 94,
   "id": "98742933",
   "metadata": {},
   "outputs": [
    {
     "data": {
      "text/plain": [
       "array([1, 5], dtype=int64)"
      ]
     },
     "execution_count": 94,
     "metadata": {},
     "output_type": "execute_result"
    }
   ],
   "source": [
    "chtrf=tfvd.transform(ch)\n",
    "rf.predict(chtrf)"
   ]
  },
  {
   "cell_type": "code",
   "execution_count": 101,
   "id": "6ce31412",
   "metadata": {},
   "outputs": [
    {
     "name": "stdout",
     "output_type": "stream",
     "text": [
      "[[263  17   2   9   3   1]\n",
      " [  9 299   9   2   6   4]\n",
      " [  4  20  52   2   1   0]\n",
      " [  6  17   1 117   4   0]\n",
      " [  7   4   1   6  96   5]\n",
      " [  1   6   0   0   4  23]]\n"
     ]
    }
   ],
   "source": [
    "cfmt =  confusion_matrix(y_test,y_pred_bow)\n",
    "print(cfmt)"
   ]
  },
  {
   "cell_type": "code",
   "execution_count": null,
   "id": "eed82b97",
   "metadata": {},
   "outputs": [],
   "source": [
    "f1st =  f1_score(y_test,y_pred_bow)\n",
    "print(f1st)"
   ]
  },
  {
   "cell_type": "markdown",
   "id": "0c5d2b70",
   "metadata": {},
   "source": [
    "# Using count vectorizer and BOW"
   ]
  },
  {
   "cell_type": "code",
   "execution_count": 80,
   "id": "aab0d02a",
   "metadata": {},
   "outputs": [],
   "source": [
    "from sklearn.feature_extraction.text import CountVectorizer\n",
    "cv= CountVectorizer()"
   ]
  },
  {
   "cell_type": "code",
   "execution_count": 81,
   "id": "7eae1785",
   "metadata": {},
   "outputs": [],
   "source": [
    "x_train_bow= cv.fit_transform(X_train['text']).toarray()\n",
    "x_test_bow= cv.transform(X_test['text']).toarray()"
   ]
  },
  {
   "cell_type": "code",
   "execution_count": 51,
   "id": "45673490",
   "metadata": {},
   "outputs": [
    {
     "data": {
      "text/plain": [
       "array([0, 0, 0, ..., 0, 0, 0], dtype=int64)"
      ]
     },
     "execution_count": 51,
     "metadata": {},
     "output_type": "execute_result"
    }
   ],
   "source": [
    "x_train_bow[0]"
   ]
  },
  {
   "cell_type": "code",
   "execution_count": 20,
   "id": "9877c260",
   "metadata": {},
   "outputs": [
    {
     "data": {
      "text/html": [
       "<style>#sk-container-id-1 {color: black;}#sk-container-id-1 pre{padding: 0;}#sk-container-id-1 div.sk-toggleable {background-color: white;}#sk-container-id-1 label.sk-toggleable__label {cursor: pointer;display: block;width: 100%;margin-bottom: 0;padding: 0.3em;box-sizing: border-box;text-align: center;}#sk-container-id-1 label.sk-toggleable__label-arrow:before {content: \"▸\";float: left;margin-right: 0.25em;color: #696969;}#sk-container-id-1 label.sk-toggleable__label-arrow:hover:before {color: black;}#sk-container-id-1 div.sk-estimator:hover label.sk-toggleable__label-arrow:before {color: black;}#sk-container-id-1 div.sk-toggleable__content {max-height: 0;max-width: 0;overflow: hidden;text-align: left;background-color: #f0f8ff;}#sk-container-id-1 div.sk-toggleable__content pre {margin: 0.2em;color: black;border-radius: 0.25em;background-color: #f0f8ff;}#sk-container-id-1 input.sk-toggleable__control:checked~div.sk-toggleable__content {max-height: 200px;max-width: 100%;overflow: auto;}#sk-container-id-1 input.sk-toggleable__control:checked~label.sk-toggleable__label-arrow:before {content: \"▾\";}#sk-container-id-1 div.sk-estimator input.sk-toggleable__control:checked~label.sk-toggleable__label {background-color: #d4ebff;}#sk-container-id-1 div.sk-label input.sk-toggleable__control:checked~label.sk-toggleable__label {background-color: #d4ebff;}#sk-container-id-1 input.sk-hidden--visually {border: 0;clip: rect(1px 1px 1px 1px);clip: rect(1px, 1px, 1px, 1px);height: 1px;margin: -1px;overflow: hidden;padding: 0;position: absolute;width: 1px;}#sk-container-id-1 div.sk-estimator {font-family: monospace;background-color: #f0f8ff;border: 1px dotted black;border-radius: 0.25em;box-sizing: border-box;margin-bottom: 0.5em;}#sk-container-id-1 div.sk-estimator:hover {background-color: #d4ebff;}#sk-container-id-1 div.sk-parallel-item::after {content: \"\";width: 100%;border-bottom: 1px solid gray;flex-grow: 1;}#sk-container-id-1 div.sk-label:hover label.sk-toggleable__label {background-color: #d4ebff;}#sk-container-id-1 div.sk-serial::before {content: \"\";position: absolute;border-left: 1px solid gray;box-sizing: border-box;top: 0;bottom: 0;left: 50%;z-index: 0;}#sk-container-id-1 div.sk-serial {display: flex;flex-direction: column;align-items: center;background-color: white;padding-right: 0.2em;padding-left: 0.2em;position: relative;}#sk-container-id-1 div.sk-item {position: relative;z-index: 1;}#sk-container-id-1 div.sk-parallel {display: flex;align-items: stretch;justify-content: center;background-color: white;position: relative;}#sk-container-id-1 div.sk-item::before, #sk-container-id-1 div.sk-parallel-item::before {content: \"\";position: absolute;border-left: 1px solid gray;box-sizing: border-box;top: 0;bottom: 0;left: 50%;z-index: -1;}#sk-container-id-1 div.sk-parallel-item {display: flex;flex-direction: column;z-index: 1;position: relative;background-color: white;}#sk-container-id-1 div.sk-parallel-item:first-child::after {align-self: flex-end;width: 50%;}#sk-container-id-1 div.sk-parallel-item:last-child::after {align-self: flex-start;width: 50%;}#sk-container-id-1 div.sk-parallel-item:only-child::after {width: 0;}#sk-container-id-1 div.sk-dashed-wrapped {border: 1px dashed gray;margin: 0 0.4em 0.5em 0.4em;box-sizing: border-box;padding-bottom: 0.4em;background-color: white;}#sk-container-id-1 div.sk-label label {font-family: monospace;font-weight: bold;display: inline-block;line-height: 1.2em;}#sk-container-id-1 div.sk-label-container {text-align: center;}#sk-container-id-1 div.sk-container {/* jupyter's `normalize.less` sets `[hidden] { display: none; }` but bootstrap.min.css set `[hidden] { display: none !important; }` so we also need the `!important` here to be able to override the default hidden behavior on the sphinx rendered scikit-learn.org. See: https://github.com/scikit-learn/scikit-learn/issues/21755 */display: inline-block !important;position: relative;}#sk-container-id-1 div.sk-text-repr-fallback {display: none;}</style><div id=\"sk-container-id-1\" class=\"sk-top-container\"><div class=\"sk-text-repr-fallback\"><pre>RandomForestClassifier(n_estimators=50)</pre><b>In a Jupyter environment, please rerun this cell to show the HTML representation or trust the notebook. <br />On GitHub, the HTML representation is unable to render, please try loading this page with nbviewer.org.</b></div><div class=\"sk-container\" hidden><div class=\"sk-item\"><div class=\"sk-estimator sk-toggleable\"><input class=\"sk-toggleable__control sk-hidden--visually\" id=\"sk-estimator-id-1\" type=\"checkbox\" checked><label for=\"sk-estimator-id-1\" class=\"sk-toggleable__label sk-toggleable__label-arrow\">RandomForestClassifier</label><div class=\"sk-toggleable__content\"><pre>RandomForestClassifier(n_estimators=50)</pre></div></div></div></div></div>"
      ],
      "text/plain": [
       "RandomForestClassifier(n_estimators=50)"
      ]
     },
     "execution_count": 20,
     "metadata": {},
     "output_type": "execute_result"
    }
   ],
   "source": [
    "from sklearn.ensemble import RandomForestClassifier\n",
    "rf= RandomForestClassifier(n_estimators=50)\n",
    "rf.fit(x_train,y_train)\n"
   ]
  },
  {
   "cell_type": "code",
   "execution_count": 95,
   "id": "174c75b1",
   "metadata": {},
   "outputs": [
    {
     "data": {
      "text/html": [
       "<style>#sk-container-id-6 {color: black;}#sk-container-id-6 pre{padding: 0;}#sk-container-id-6 div.sk-toggleable {background-color: white;}#sk-container-id-6 label.sk-toggleable__label {cursor: pointer;display: block;width: 100%;margin-bottom: 0;padding: 0.3em;box-sizing: border-box;text-align: center;}#sk-container-id-6 label.sk-toggleable__label-arrow:before {content: \"▸\";float: left;margin-right: 0.25em;color: #696969;}#sk-container-id-6 label.sk-toggleable__label-arrow:hover:before {color: black;}#sk-container-id-6 div.sk-estimator:hover label.sk-toggleable__label-arrow:before {color: black;}#sk-container-id-6 div.sk-toggleable__content {max-height: 0;max-width: 0;overflow: hidden;text-align: left;background-color: #f0f8ff;}#sk-container-id-6 div.sk-toggleable__content pre {margin: 0.2em;color: black;border-radius: 0.25em;background-color: #f0f8ff;}#sk-container-id-6 input.sk-toggleable__control:checked~div.sk-toggleable__content {max-height: 200px;max-width: 100%;overflow: auto;}#sk-container-id-6 input.sk-toggleable__control:checked~label.sk-toggleable__label-arrow:before {content: \"▾\";}#sk-container-id-6 div.sk-estimator input.sk-toggleable__control:checked~label.sk-toggleable__label {background-color: #d4ebff;}#sk-container-id-6 div.sk-label input.sk-toggleable__control:checked~label.sk-toggleable__label {background-color: #d4ebff;}#sk-container-id-6 input.sk-hidden--visually {border: 0;clip: rect(1px 1px 1px 1px);clip: rect(1px, 1px, 1px, 1px);height: 1px;margin: -1px;overflow: hidden;padding: 0;position: absolute;width: 1px;}#sk-container-id-6 div.sk-estimator {font-family: monospace;background-color: #f0f8ff;border: 1px dotted black;border-radius: 0.25em;box-sizing: border-box;margin-bottom: 0.5em;}#sk-container-id-6 div.sk-estimator:hover {background-color: #d4ebff;}#sk-container-id-6 div.sk-parallel-item::after {content: \"\";width: 100%;border-bottom: 1px solid gray;flex-grow: 1;}#sk-container-id-6 div.sk-label:hover label.sk-toggleable__label {background-color: #d4ebff;}#sk-container-id-6 div.sk-serial::before {content: \"\";position: absolute;border-left: 1px solid gray;box-sizing: border-box;top: 0;bottom: 0;left: 50%;z-index: 0;}#sk-container-id-6 div.sk-serial {display: flex;flex-direction: column;align-items: center;background-color: white;padding-right: 0.2em;padding-left: 0.2em;position: relative;}#sk-container-id-6 div.sk-item {position: relative;z-index: 1;}#sk-container-id-6 div.sk-parallel {display: flex;align-items: stretch;justify-content: center;background-color: white;position: relative;}#sk-container-id-6 div.sk-item::before, #sk-container-id-6 div.sk-parallel-item::before {content: \"\";position: absolute;border-left: 1px solid gray;box-sizing: border-box;top: 0;bottom: 0;left: 50%;z-index: -1;}#sk-container-id-6 div.sk-parallel-item {display: flex;flex-direction: column;z-index: 1;position: relative;background-color: white;}#sk-container-id-6 div.sk-parallel-item:first-child::after {align-self: flex-end;width: 50%;}#sk-container-id-6 div.sk-parallel-item:last-child::after {align-self: flex-start;width: 50%;}#sk-container-id-6 div.sk-parallel-item:only-child::after {width: 0;}#sk-container-id-6 div.sk-dashed-wrapped {border: 1px dashed gray;margin: 0 0.4em 0.5em 0.4em;box-sizing: border-box;padding-bottom: 0.4em;background-color: white;}#sk-container-id-6 div.sk-label label {font-family: monospace;font-weight: bold;display: inline-block;line-height: 1.2em;}#sk-container-id-6 div.sk-label-container {text-align: center;}#sk-container-id-6 div.sk-container {/* jupyter's `normalize.less` sets `[hidden] { display: none; }` but bootstrap.min.css set `[hidden] { display: none !important; }` so we also need the `!important` here to be able to override the default hidden behavior on the sphinx rendered scikit-learn.org. See: https://github.com/scikit-learn/scikit-learn/issues/21755 */display: inline-block !important;position: relative;}#sk-container-id-6 div.sk-text-repr-fallback {display: none;}</style><div id=\"sk-container-id-6\" class=\"sk-top-container\"><div class=\"sk-text-repr-fallback\"><pre>RandomForestClassifier(n_estimators=50)</pre><b>In a Jupyter environment, please rerun this cell to show the HTML representation or trust the notebook. <br />On GitHub, the HTML representation is unable to render, please try loading this page with nbviewer.org.</b></div><div class=\"sk-container\" hidden><div class=\"sk-item\"><div class=\"sk-estimator sk-toggleable\"><input class=\"sk-toggleable__control sk-hidden--visually\" id=\"sk-estimator-id-6\" type=\"checkbox\" checked><label for=\"sk-estimator-id-6\" class=\"sk-toggleable__label sk-toggleable__label-arrow\">RandomForestClassifier</label><div class=\"sk-toggleable__content\"><pre>RandomForestClassifier(n_estimators=50)</pre></div></div></div></div></div>"
      ],
      "text/plain": [
       "RandomForestClassifier(n_estimators=50)"
      ]
     },
     "execution_count": 95,
     "metadata": {},
     "output_type": "execute_result"
    }
   ],
   "source": [
    "rf.fit(x_train_bow,y_train)"
   ]
  },
  {
   "cell_type": "code",
   "execution_count": 84,
   "id": "cb2ea340",
   "metadata": {},
   "outputs": [],
   "source": [
    "y_pred_bow= rf.predict(x_test_bow)"
   ]
  },
  {
   "cell_type": "code",
   "execution_count": 96,
   "id": "df1b0e98",
   "metadata": {},
   "outputs": [],
   "source": [
    "ch=[\"I am in love and awe\",\"I am shocked\"]"
   ]
  },
  {
   "cell_type": "code",
   "execution_count": 97,
   "id": "aaa3bea4",
   "metadata": {},
   "outputs": [
    {
     "data": {
      "text/plain": [
       "array([1, 5], dtype=int64)"
      ]
     },
     "execution_count": 97,
     "metadata": {},
     "output_type": "execute_result"
    }
   ],
   "source": [
    "cht=cv.transform(ch)\n",
    "rf.predict(cht)"
   ]
  },
  {
   "cell_type": "code",
   "execution_count": 23,
   "id": "3b700898",
   "metadata": {},
   "outputs": [
    {
     "data": {
      "text/plain": [
       "0.8591408591408591"
      ]
     },
     "execution_count": 23,
     "metadata": {},
     "output_type": "execute_result"
    }
   ],
   "source": [
    "from sklearn.metrics import accuracy_score ,confusion_matrix\n"
   ]
  },
  {
   "cell_type": "code",
   "execution_count": 100,
   "id": "ae98cab4",
   "metadata": {},
   "outputs": [
    {
     "name": "stdout",
     "output_type": "stream",
     "text": [
      "[[263  17   2   9   3   1]\n",
      " [  9 299   9   2   6   4]\n",
      " [  4  20  52   2   1   0]\n",
      " [  6  17   1 117   4   0]\n",
      " [  7   4   1   6  96   5]\n",
      " [  1   6   0   0   4  23]]\n"
     ]
    }
   ],
   "source": [
    "cfmb =  confusion_matrix(y_test,y_pred_bow)\n",
    "print(cfmb)"
   ]
  },
  {
   "cell_type": "code",
   "execution_count": 98,
   "id": "6cd2d3b9",
   "metadata": {},
   "outputs": [
    {
     "data": {
      "text/plain": [
       "0.8491508491508492"
      ]
     },
     "execution_count": 98,
     "metadata": {},
     "output_type": "execute_result"
    }
   ],
   "source": [
    "accuracy_score(y_test,y_pred_bow)"
   ]
  },
  {
   "cell_type": "markdown",
   "id": "b8f2b8bb",
   "metadata": {},
   "source": [
    "# accuracy count vectorizer:- 0.85, accuracy tfidf = 0.83\n",
    "    Hence count vectorizer is better model for semantic analysis"
   ]
  },
  {
   "cell_type": "markdown",
   "id": "d376f4ab",
   "metadata": {},
   "source": [
    "# Model prediction ends"
   ]
  },
  {
   "cell_type": "markdown",
   "id": "8e8c0ad9",
   "metadata": {},
   "source": [
    "# running pkl file in azure ml experiments"
   ]
  },
  {
   "cell_type": "code",
   "execution_count": 50,
   "id": "6befa41b",
   "metadata": {},
   "outputs": [
    {
     "data": {
      "text/plain": [
       "['outputs/emo_model.pkl']"
      ]
     },
     "execution_count": 50,
     "metadata": {},
     "output_type": "execute_result"
    }
   ],
   "source": [
    "import joblib\n",
    "filename = 'outputs/emo_model.pkl'\n",
    "joblib.dump(rf,filename)\n"
   ]
  },
  {
   "cell_type": "code",
   "execution_count": 51,
   "id": "5380f783",
   "metadata": {},
   "outputs": [],
   "source": [
    "run.log(\"Experiment End time\",str(datetime.now()))\n",
    "run.complete()"
   ]
  },
  {
   "cell_type": "code",
   "execution_count": null,
   "id": "ee5c0b19",
   "metadata": {},
   "outputs": [],
   "source": []
  }
 ],
 "metadata": {
  "kernelspec": {
   "display_name": "Python 3 (ipykernel)",
   "language": "python",
   "name": "python3"
  },
  "language_info": {
   "codemirror_mode": {
    "name": "ipython",
    "version": 3
   },
   "file_extension": ".py",
   "mimetype": "text/x-python",
   "name": "python",
   "nbconvert_exporter": "python",
   "pygments_lexer": "ipython3",
   "version": "3.11.5"
  }
 },
 "nbformat": 4,
 "nbformat_minor": 5
}
