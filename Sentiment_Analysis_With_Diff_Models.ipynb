{
 "cells": [
  {
   "cell_type": "code",
   "execution_count": 13,
   "id": "b8dda847",
   "metadata": {},
   "outputs": [
    {
     "name": "stderr",
     "output_type": "stream",
     "text": [
      "[nltk_data] Downloading package stopwords to\n",
      "[nltk_data]     C:\\Users\\Lenovo\\AppData\\Roaming\\nltk_data...\n",
      "[nltk_data]   Package stopwords is already up-to-date!\n"
     ]
    }
   ],
   "source": [
    "import pandas as pd\n",
    "df= pd.read_csv(\"Emotions.csv\")\n",
    "import nltk\n",
    "from nltk.corpus import stopwords\n",
    "nltk.download('stopwords')\n",
    "stop_words = set(stopwords.words(\"english\"))\n"
   ]
  },
  {
   "cell_type": "code",
   "execution_count": 14,
   "id": "92584d8e",
   "metadata": {},
   "outputs": [],
   "source": [
    "def remove_stopwords(text):\n",
    "    new_text=[]\n",
    "    for word in text.split():\n",
    "        if word in stop_words:\n",
    "            new_text.append('')\n",
    "            \n",
    "        else:\n",
    "            new_text.append(word)\n",
    "            \n",
    "    x= new_text[:]\n",
    "    new_text.clear()\n",
    "    return ' '.join(x)"
   ]
  },
  {
   "cell_type": "code",
   "execution_count": 15,
   "id": "04ebf243",
   "metadata": {},
   "outputs": [],
   "source": [
    "df1= df.loc[0:5000]"
   ]
  },
  {
   "cell_type": "code",
   "execution_count": 16,
   "id": "93514833",
   "metadata": {},
   "outputs": [
    {
     "name": "stderr",
     "output_type": "stream",
     "text": [
      "C:\\Users\\Lenovo\\AppData\\Local\\Temp\\ipykernel_3616\\280909826.py:1: SettingWithCopyWarning: \n",
      "A value is trying to be set on a copy of a slice from a DataFrame.\n",
      "Try using .loc[row_indexer,col_indexer] = value instead\n",
      "\n",
      "See the caveats in the documentation: https://pandas.pydata.org/pandas-docs/stable/user_guide/indexing.html#returning-a-view-versus-a-copy\n",
      "  df1['text']=df1['text'].apply(remove_stopwords)\n"
     ]
    }
   ],
   "source": [
    "df1['text']=df1['text'].apply(remove_stopwords)"
   ]
  },
  {
   "cell_type": "code",
   "execution_count": 18,
   "id": "2612d1ad",
   "metadata": {},
   "outputs": [
    {
     "name": "stderr",
     "output_type": "stream",
     "text": [
      "[nltk_data] Downloading package wordnet to\n",
      "[nltk_data]     C:\\Users\\Lenovo\\AppData\\Roaming\\nltk_data...\n",
      "[nltk_data]   Package wordnet is already up-to-date!\n",
      "[nltk_data] Downloading package omw-1.4 to\n",
      "[nltk_data]     C:\\Users\\Lenovo\\AppData\\Roaming\\nltk_data...\n",
      "[nltk_data]   Package omw-1.4 is already up-to-date!\n"
     ]
    }
   ],
   "source": [
    "from nltk.stem import WordNetLemmatizer\n",
    "nltk.download(\"wordnet\")\n",
    "nltk.download(\"omw-1.4\")\n",
    "wnl = WordNetLemmatizer()\n",
    "def lemmatiza_wrds(text):\n",
    "    new_text=[]\n",
    "    for word in text.split():\n",
    "        le_wrd= wnl.lemmatize(word, pos=\"v\")\n",
    "        new_text.append(le_wrd)\n",
    "        if (word != le_wrd):\n",
    "            print(word, le_wrd)\n",
    "        \n",
    "            \n",
    "    x= new_text[:]\n",
    "    new_text.clear()\n",
    "    return ' '.join(x)"
   ]
  },
  {
   "cell_type": "code",
   "execution_count": 20,
   "id": "057c1a59",
   "metadata": {},
   "outputs": [],
   "source": [
    "from sklearn.model_selection import train_test_split\n",
    "x= df1.iloc[:,1:2]\n",
    "y= df1['label']\n",
    "X_train,X_test,y_train,y_test= train_test_split(x,y,test_size=0.2,random_state=1)"
   ]
  },
  {
   "cell_type": "code",
   "execution_count": 21,
   "id": "ed651409",
   "metadata": {},
   "outputs": [],
   "source": [
    "from sklearn.feature_extraction.text import TfidfVectorizer\n",
    "tfvd= TfidfVectorizer(min_df=0.0, max_df=1.0, ngram_range=(1,2),sublinear_tf=True)\n",
    "tfv_train= tfvd.fit_transform(X_train['text']).toarray()\n",
    "tfv_test= tfvd.transform(X_test['text']).toarray()"
   ]
  },
  {
   "cell_type": "code",
   "execution_count": 28,
   "id": "8754adb7",
   "metadata": {},
   "outputs": [],
   "source": [
    "from sklearn.feature_extraction.text import CountVectorizer\n",
    "cv= CountVectorizer()\n",
    "x_train_cv= cv.fit_transform(X_train['text']).toarray()\n",
    "x_test_cv= cv.transform(X_test['text']).toarray()"
   ]
  },
  {
   "cell_type": "markdown",
   "id": "845edc76",
   "metadata": {},
   "source": [
    "# RF with tfidf"
   ]
  },
  {
   "cell_type": "code",
   "execution_count": 23,
   "id": "6f3be8ae",
   "metadata": {},
   "outputs": [
    {
     "name": "stdout",
     "output_type": "stream",
     "text": [
      "              precision    recall  f1-score   support\n",
      "\n",
      "           0       0.87      0.88      0.87       295\n",
      "           1       0.77      0.92      0.84       329\n",
      "           2       0.87      0.59      0.71        79\n",
      "           3       0.88      0.77      0.82       145\n",
      "           4       0.90      0.71      0.80       119\n",
      "           5       0.79      0.79      0.79        34\n",
      "\n",
      "    accuracy                           0.83      1001\n",
      "   macro avg       0.85      0.78      0.81      1001\n",
      "weighted avg       0.84      0.83      0.83      1001\n",
      "\n",
      "[[259  26   3   6   1   0]\n",
      " [ 16 304   2   2   3   2]\n",
      " [  5  25  47   2   0   0]\n",
      " [  8  21   1 112   3   0]\n",
      " [  8  14   1   6  85   5]\n",
      " [  2   3   0   0   2  27]]\n"
     ]
    }
   ],
   "source": [
    "from sklearn.ensemble import RandomForestClassifier\n",
    "from sklearn.metrics import accuracy_score ,confusion_matrix , classification_report\n",
    "rf= RandomForestClassifier(n_estimators=50)\n",
    "rf.fit(tfv_train,y_train)\n",
    "y_pred= rf.predict(tfv_test)\n",
    "accuracy_score(y_test,y_pred)\n",
    "print(classification_report(y_test, y_pred))\n",
    "print(confusion_matrix(y_test, y_pred))      "
   ]
  },
  {
   "cell_type": "markdown",
   "id": "c6cfefd0",
   "metadata": {},
   "source": [
    "# RF with CV"
   ]
  },
  {
   "cell_type": "code",
   "execution_count": 29,
   "id": "9154ef10",
   "metadata": {},
   "outputs": [
    {
     "name": "stdout",
     "output_type": "stream",
     "text": [
      "0.8631368631368631\n",
      "              precision    recall  f1-score   support\n",
      "\n",
      "           0       0.93      0.90      0.92       295\n",
      "           1       0.83      0.91      0.87       329\n",
      "           2       0.78      0.68      0.73        79\n",
      "           3       0.88      0.81      0.84       145\n",
      "           4       0.87      0.82      0.84       119\n",
      "           5       0.73      0.88      0.80        34\n",
      "\n",
      "    accuracy                           0.86      1001\n",
      "   macro avg       0.84      0.83      0.83      1001\n",
      "weighted avg       0.86      0.86      0.86      1001\n",
      "\n",
      "[[266  15   4   6   3   1]\n",
      " [  8 300   9   2   6   4]\n",
      " [  2  20  54   2   1   0]\n",
      " [  6  18   1 117   3   0]\n",
      " [  4   5   1   6  97   6]\n",
      " [  0   2   0   0   2  30]]\n"
     ]
    }
   ],
   "source": [
    "rf= RandomForestClassifier(n_estimators=50)\n",
    "rf.fit(x_train_cv,y_train)\n",
    "y_pred= rf.predict(x_test_cv)\n",
    "print(accuracy_score(y_test,y_pred))\n",
    "print(classification_report(y_test, y_pred))\n",
    "print(confusion_matrix(y_test, y_pred)) "
   ]
  },
  {
   "cell_type": "markdown",
   "id": "b8033e27",
   "metadata": {},
   "source": [
    "# Dt with tfidf"
   ]
  },
  {
   "cell_type": "code",
   "execution_count": 25,
   "id": "4af434a6",
   "metadata": {},
   "outputs": [
    {
     "name": "stdout",
     "output_type": "stream",
     "text": [
      "0.8621378621378621\n",
      "              precision    recall  f1-score   support\n",
      "\n",
      "           0       0.92      0.91      0.91       295\n",
      "           1       0.89      0.85      0.87       329\n",
      "           2       0.74      0.84      0.79        79\n",
      "           3       0.83      0.87      0.85       145\n",
      "           4       0.83      0.80      0.82       119\n",
      "           5       0.67      0.85      0.75        34\n",
      "\n",
      "    accuracy                           0.86      1001\n",
      "   macro avg       0.82      0.85      0.83      1001\n",
      "weighted avg       0.87      0.86      0.86      1001\n",
      "\n",
      "[[268  10   4   8   4   1]\n",
      " [ 10 279  18   7   9   6]\n",
      " [  2   7  66   3   1   0]\n",
      " [  4  12   1 126   2   0]\n",
      " [  7   3   0   7  95   7]\n",
      " [  0   2   0   0   3  29]]\n"
     ]
    }
   ],
   "source": [
    "from sklearn.tree import DecisionTreeClassifier\n",
    "classifier_tree = DecisionTreeClassifier()\n",
    "y_pred = classifier_tree.fit(tfv_train, y_train).predict(tfv_test)\n",
    "print(accuracy_score(y_test,y_pred))\n",
    "print(classification_report(y_test, y_pred))\n",
    "print(confusion_matrix(y_test, y_pred))"
   ]
  },
  {
   "cell_type": "markdown",
   "id": "ea6a9832",
   "metadata": {},
   "source": [
    "# DT with Cv: Best model"
   ]
  },
  {
   "cell_type": "code",
   "execution_count": 30,
   "id": "a96f8ba4",
   "metadata": {},
   "outputs": [
    {
     "name": "stdout",
     "output_type": "stream",
     "text": [
      "0.8711288711288712\n",
      "              precision    recall  f1-score   support\n",
      "\n",
      "           0       0.92      0.91      0.92       295\n",
      "           1       0.90      0.86      0.88       329\n",
      "           2       0.73      0.80      0.76        79\n",
      "           3       0.85      0.86      0.86       145\n",
      "           4       0.83      0.86      0.84       119\n",
      "           5       0.75      0.88      0.81        34\n",
      "\n",
      "    accuracy                           0.87      1001\n",
      "   macro avg       0.83      0.86      0.85      1001\n",
      "weighted avg       0.87      0.87      0.87      1001\n",
      "\n",
      "[[268   7   4  10   5   1]\n",
      " [ 11 284  18   4   8   4]\n",
      " [  3   9  63   3   1   0]\n",
      " [  3  12   1 125   4   0]\n",
      " [  5   2   0   5 102   5]\n",
      " [  0   1   0   0   3  30]]\n"
     ]
    }
   ],
   "source": [
    "classifier_tree = DecisionTreeClassifier()\n",
    "y_pred = classifier_tree.fit(x_train_cv, y_train).predict(x_test_cv)\n",
    "print(accuracy_score(y_test,y_pred))\n",
    "print(classification_report(y_test, y_pred))\n",
    "print(confusion_matrix(y_test, y_pred)) "
   ]
  },
  {
   "cell_type": "markdown",
   "id": "d538dc31",
   "metadata": {},
   "source": [
    "# Log R with tfidf"
   ]
  },
  {
   "cell_type": "code",
   "execution_count": 26,
   "id": "ba318d63",
   "metadata": {},
   "outputs": [
    {
     "name": "stdout",
     "output_type": "stream",
     "text": [
      "0.7172827172827173\n",
      "              precision    recall  f1-score   support\n",
      "\n",
      "           0       0.76      0.93      0.83       295\n",
      "           1       0.64      0.97      0.77       329\n",
      "           2       1.00      0.13      0.22        79\n",
      "           3       0.89      0.46      0.61       145\n",
      "           4       0.90      0.39      0.55       119\n",
      "           5       0.33      0.03      0.05        34\n",
      "\n",
      "    accuracy                           0.72      1001\n",
      "   macro avg       0.75      0.49      0.51      1001\n",
      "weighted avg       0.76      0.72      0.67      1001\n",
      "\n",
      "[[275  19   0   1   0   0]\n",
      " [ 11 318   0   0   0   0]\n",
      " [ 15  54  10   0   0   0]\n",
      " [ 28  49   0  67   1   0]\n",
      " [ 27  36   0   7  47   2]\n",
      " [  8  21   0   0   4   1]]\n"
     ]
    }
   ],
   "source": [
    "from sklearn.linear_model import LogisticRegression\n",
    "clf = LogisticRegression(random_state=0)\n",
    "y_pred = clf.fit(tfv_train, y_train).predict(tfv_test)\n",
    "print(accuracy_score(y_test,y_pred))\n",
    "print(classification_report(y_test, y_pred))\n",
    "print(confusion_matrix(y_test, y_pred))\n"
   ]
  },
  {
   "cell_type": "markdown",
   "id": "87d6109b",
   "metadata": {},
   "source": [
    "# Log R with CV"
   ]
  },
  {
   "cell_type": "code",
   "execution_count": 31,
   "id": "dceaf154",
   "metadata": {},
   "outputs": [
    {
     "name": "stdout",
     "output_type": "stream",
     "text": [
      "0.8621378621378621\n",
      "              precision    recall  f1-score   support\n",
      "\n",
      "           0       0.88      0.93      0.91       295\n",
      "           1       0.84      0.95      0.89       329\n",
      "           2       0.83      0.62      0.71        79\n",
      "           3       0.86      0.82      0.84       145\n",
      "           4       0.89      0.77      0.83       119\n",
      "           5       0.85      0.50      0.63        34\n",
      "\n",
      "    accuracy                           0.86      1001\n",
      "   macro avg       0.86      0.77      0.80      1001\n",
      "weighted avg       0.86      0.86      0.86      1001\n",
      "\n",
      "[[275   9   3   8   0   0]\n",
      " [  8 311   6   2   1   1]\n",
      " [  5  21  49   2   1   1]\n",
      " [ 12  10   0 119   4   0]\n",
      " [  9  10   0   7  92   1]\n",
      " [  3   8   1   0   5  17]]\n"
     ]
    },
    {
     "name": "stderr",
     "output_type": "stream",
     "text": [
      "C:\\Users\\Lenovo\\AppData\\Local\\anaconda3\\Lib\\site-packages\\sklearn\\linear_model\\_logistic.py:460: ConvergenceWarning: lbfgs failed to converge (status=1):\n",
      "STOP: TOTAL NO. of ITERATIONS REACHED LIMIT.\n",
      "\n",
      "Increase the number of iterations (max_iter) or scale the data as shown in:\n",
      "    https://scikit-learn.org/stable/modules/preprocessing.html\n",
      "Please also refer to the documentation for alternative solver options:\n",
      "    https://scikit-learn.org/stable/modules/linear_model.html#logistic-regression\n",
      "  n_iter_i = _check_optimize_result(\n"
     ]
    }
   ],
   "source": [
    "y_pred = clf.fit(x_train_cv, y_train).predict(x_test_cv)\n",
    "print(accuracy_score(y_test,y_pred))\n",
    "print(classification_report(y_test, y_pred))\n",
    "print(confusion_matrix(y_test, y_pred))"
   ]
  },
  {
   "cell_type": "markdown",
   "id": "f0887833",
   "metadata": {},
   "source": [
    "# Naive Bayes with tfidf"
   ]
  },
  {
   "cell_type": "code",
   "execution_count": 27,
   "id": "5e7cd595",
   "metadata": {},
   "outputs": [
    {
     "name": "stdout",
     "output_type": "stream",
     "text": [
      "0.6093906093906094\n",
      "              precision    recall  f1-score   support\n",
      "\n",
      "           0       0.68      0.73      0.70       295\n",
      "           1       0.61      0.75      0.67       329\n",
      "           2       0.47      0.25      0.33        79\n",
      "           3       0.60      0.50      0.54       145\n",
      "           4       0.53      0.45      0.49       119\n",
      "           5       0.25      0.12      0.16        34\n",
      "\n",
      "    accuracy                           0.61      1001\n",
      "   macro avg       0.52      0.47      0.48      1001\n",
      "weighted avg       0.59      0.61      0.60      1001\n",
      "\n",
      "[[214  38   7  19  15   2]\n",
      " [ 38 246  12  14  17   2]\n",
      " [  9  45  20   2   2   1]\n",
      " [ 23  37   2  72  10   1]\n",
      " [ 24  25   2   8  54   6]\n",
      " [  8  14   0   5   3   4]]\n"
     ]
    }
   ],
   "source": [
    "from sklearn.naive_bayes import GaussianNB  \n",
    "classifier = GaussianNB() \n",
    "y_pred = classifier.fit(tfv_train, y_train).predict(tfv_test)\n",
    "print(accuracy_score(y_test,y_pred))\n",
    "print(classification_report(y_test, y_pred))\n",
    "print(confusion_matrix(y_test, y_pred))\n"
   ]
  },
  {
   "cell_type": "markdown",
   "id": "2e3b8933",
   "metadata": {},
   "source": [
    "# Naive bayes with CV "
   ]
  },
  {
   "cell_type": "code",
   "execution_count": 32,
   "id": "11584ba7",
   "metadata": {},
   "outputs": [
    {
     "name": "stdout",
     "output_type": "stream",
     "text": [
      "0.4805194805194805\n",
      "              precision    recall  f1-score   support\n",
      "\n",
      "           0       0.56      0.52      0.54       295\n",
      "           1       0.61      0.52      0.56       329\n",
      "           2       0.28      0.29      0.29        79\n",
      "           3       0.44      0.46      0.45       145\n",
      "           4       0.36      0.55      0.43       119\n",
      "           5       0.08      0.09      0.09        34\n",
      "\n",
      "    accuracy                           0.48      1001\n",
      "   macro avg       0.39      0.40      0.39      1001\n",
      "weighted avg       0.50      0.48      0.49      1001\n",
      "\n",
      "[[153  28  18  35  48  13]\n",
      " [ 55 170  28  32  36   8]\n",
      " [ 16  33  23   3   3   1]\n",
      " [ 19  24   9  67  23   3]\n",
      " [ 23  10   3  10  65   8]\n",
      " [  6  13   0   6   6   3]]\n"
     ]
    }
   ],
   "source": [
    "y_pred = classifier.fit(x_train_cv, y_train).predict(x_test_cv)\n",
    "print(accuracy_score(y_test,y_pred))\n",
    "print(classification_report(y_test, y_pred))\n",
    "print(confusion_matrix(y_test, y_pred))"
   ]
  },
  {
   "cell_type": "code",
   "execution_count": null,
   "id": "178ab889",
   "metadata": {},
   "outputs": [],
   "source": []
  }
 ],
 "metadata": {
  "kernelspec": {
   "display_name": "Python 3 (ipykernel)",
   "language": "python",
   "name": "python3"
  },
  "language_info": {
   "codemirror_mode": {
    "name": "ipython",
    "version": 3
   },
   "file_extension": ".py",
   "mimetype": "text/x-python",
   "name": "python",
   "nbconvert_exporter": "python",
   "pygments_lexer": "ipython3",
   "version": "3.11.5"
  }
 },
 "nbformat": 4,
 "nbformat_minor": 5
}
